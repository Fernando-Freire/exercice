{
 "cells": [
  {
   "cell_type": "code",
   "execution_count": 3,
   "id": "d3ed4c1f",
   "metadata": {},
   "outputs": [],
   "source": [
    "from pathlib import Path\n",
    "\n",
    "import matplotlib.pyplot as plt\n",
    "import pandas as pd\n",
    "\n",
    "import lightgbm as lgb\n",
    "\n",
    "%matplotlib inline\n",
    "\n",
    "try:\n",
    "    # To enable interactive mode you should install ipywidgets\n",
    "    # https://github.com/jupyter-widgets/ipywidgets\n",
    "    from ipywidgets import interact, SelectMultiple\n",
    "    INTERACTIVE = True\n",
    "except ImportError:\n",
    "    INTERACTIVE = False"
   ]
  },
  {
   "cell_type": "code",
   "execution_count": 31,
   "id": "510f2cfe",
   "metadata": {},
   "outputs": [],
   "source": [
    "df_train = pd.read_csv(str( 'sample_products.csv'),sep=',')\n",
    "df_test = pd.read_csv(str( 'test_products.csv'), sep=',')"
   ]
  },
  {
   "cell_type": "markdown",
   "id": "aae054dd",
   "metadata": {},
   "source": [
    "*Limpar dados (excluir linhas com dados em colunas faltando ou excluir colunas inteiras)*"
   ]
  },
  {
   "cell_type": "code",
   "execution_count": 32,
   "id": "3224f160",
   "metadata": {},
   "outputs": [
    {
     "name": "stdout",
     "output_type": "stream",
     "text": [
      "<class 'pandas.core.frame.DataFrame'>\n",
      "RangeIndex: 38000 entries, 0 to 37999\n",
      "Data columns (total 14 columns):\n",
      " #   Column             Non-Null Count  Dtype  \n",
      "---  ------             --------------  -----  \n",
      " 0   product_id         38000 non-null  int64  \n",
      " 1   seller_id          38000 non-null  int64  \n",
      " 2   query              38000 non-null  object \n",
      " 3   search_page        38000 non-null  int64  \n",
      " 4   position           38000 non-null  int64  \n",
      " 5   title              38000 non-null  object \n",
      " 6   concatenated_tags  37998 non-null  object \n",
      " 7   creation_date      38000 non-null  object \n",
      " 8   price              38000 non-null  float64\n",
      " 9   weight             37942 non-null  float64\n",
      " 10  express_delivery   38000 non-null  int64  \n",
      " 11  minimum_quantity   38000 non-null  int64  \n",
      " 12  view_counts        38000 non-null  int64  \n",
      " 13  category           38000 non-null  object \n",
      "dtypes: float64(2), int64(7), object(5)\n",
      "memory usage: 4.1+ MB\n"
     ]
    }
   ],
   "source": [
    "df_train.head()\n",
    "df_train = df_train.drop('order_counts', axis=1)\n",
    "df_train.isnull().sum().sort_values(ascending=False)\n",
    "df_train.info()"
   ]
  },
  {
   "cell_type": "code",
   "execution_count": 34,
   "id": "2178c76b",
   "metadata": {},
   "outputs": [
    {
     "data": {
      "text/plain": [
       "0                                  espirito santo\n",
       "1                                cartao de visita\n",
       "2                           expositor de esmaltes\n",
       "3             medidas lencol para berco americano\n",
       "4                            adesivo box banheiro\n",
       "                           ...                   \n",
       "37995    mochila personalizada galinha pintadinha\n",
       "37996                            tag dia dos pais\n",
       "37997                       kit bolsa maternidade\n",
       "37998                               festa 15 anos\n",
       "37999               painel aniversariantes em eva\n",
       "Name: query, Length: 38000, dtype: object"
      ]
     },
     "execution_count": 34,
     "metadata": {},
     "output_type": "execute_result"
    }
   ],
   "source": [
    "df_train['query']"
   ]
  },
  {
   "cell_type": "markdown",
   "id": "45c6ac5b",
   "metadata": {},
   "source": [
    "*Separar conjunto de treinamento, teste e validação*"
   ]
  },
  {
   "cell_type": "code",
   "execution_count": 33,
   "id": "81b32681",
   "metadata": {},
   "outputs": [],
   "source": [
    "y_train = df_train['category']\n",
    "y_test = df_test['category']\n",
    "X_train = df_train.drop('category', axis=1)\n",
    "X_test = df_test.drop('category', axis=1)"
   ]
  },
  {
   "cell_type": "markdown",
   "id": "71251866",
   "metadata": {},
   "source": [
    "*Criar coluna para cada categoria (separadamente)*"
   ]
  },
  {
   "cell_type": "markdown",
   "id": "2019f914",
   "metadata": {},
   "source": [
    "*Encodar colunas string em "
   ]
  },
  {
   "cell_type": "code",
   "execution_count": 18,
   "id": "8435fa38",
   "metadata": {},
   "outputs": [],
   "source": [
    "lgb_train = lgb.Dataset(X_train, y_train)\n",
    "lgb_test = lgb.Dataset(X_test, y_test, reference=lgb_train)"
   ]
  },
  {
   "cell_type": "code",
   "execution_count": 26,
   "id": "b3e38c5f",
   "metadata": {},
   "outputs": [],
   "source": [
    "params = {\n",
    "    'metric': 'binary_logloss',\n",
    "    'verbose': -1,\n",
    "    'application': 'binary',\n",
    "    'device' : 'cpu'\n",
    "}"
   ]
  },
  {
   "cell_type": "code",
   "execution_count": 28,
   "id": "0f405160",
   "metadata": {},
   "outputs": [],
   "source": [
    "evals_result = {}  # to record eval results for plotting\n",
    "clf = lgb.LGBMClassifier()"
   ]
  },
  {
   "cell_type": "code",
   "execution_count": null,
   "id": "31f1917c",
   "metadata": {},
   "outputs": [],
   "source": []
  }
 ],
 "metadata": {
  "kernelspec": {
   "display_name": "Python 3 (ipykernel)",
   "language": "python",
   "name": "python3"
  },
  "language_info": {
   "codemirror_mode": {
    "name": "ipython",
    "version": 3
   },
   "file_extension": ".py",
   "mimetype": "text/x-python",
   "name": "python",
   "nbconvert_exporter": "python",
   "pygments_lexer": "ipython3",
   "version": "3.9.1"
  }
 },
 "nbformat": 4,
 "nbformat_minor": 5
}
