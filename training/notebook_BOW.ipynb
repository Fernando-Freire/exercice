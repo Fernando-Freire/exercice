{
 "cells": [
  {
   "cell_type": "code",
   "execution_count": 1,
   "metadata": {},
   "outputs": [
    {
     "name": "stderr",
     "output_type": "stream",
     "text": [
      "[nltk_data] Downloading package rslp to /home/jovyan/nltk_data...\n",
      "[nltk_data]   Package rslp is already up-to-date!\n",
      "[nltk_data] Downloading package stopwords to /home/jovyan/nltk_data...\n",
      "[nltk_data]   Package stopwords is already up-to-date!\n",
      "2022/03/07 11:41:31 INFO mlflow.tracking.fluent: Experiment with name 'Bag-Of-Words-Decision-Tree' does not exist. Creating a new experiment.\n"
     ]
    }
   ],
   "source": [
    "import numpy as np\n",
    "import pandas as pd\n",
    "import mlflow\n",
    "import mlflow.sklearn\n",
    "import nltk\n",
    "import time\n",
    "import nltk.stem\n",
    "import gensim\n",
    "\n",
    "from sklearn.model_selection import train_test_split\n",
    "from sklearn.tree import DecisionTreeClassifier\n",
    "from gensim.utils import simple_preprocess\n",
    "from gensim.parsing.preprocessing import remove_stopwords\n",
    "from gensim.utils import simple_preprocess\n",
    "from gensim import corpora\n",
    "from sklearn.model_selection import train_test_split\n",
    "\n",
    "\n",
    "\n",
    "\n",
    "nltk.download('rslp')\n",
    "nltk.download('stopwords')\n",
    "\n",
    "mlflow.set_tracking_uri(\"http://mlflow_server:5000\")\n",
    "mlflow.set_experiment(\"Bag-Of-Words-Decision-Tree\")\n",
    "\n",
    "#importing dataset\n",
    "df_train = pd.read_csv(str( 'sample_products.csv'),sep=',')\n",
    "df_test = pd.read_csv(str( 'test_products.csv'), sep=',')\n",
    "\n",
    "mlflow.sklearn.autolog(log_models=True,log_model_signatures=True)"
   ]
  },
  {
   "cell_type": "code",
   "execution_count": 2,
   "metadata": {},
   "outputs": [],
   "source": [
    "# concatening title and tags\n",
    "df_copy = df_train.copy()\n",
    "df_copy[\"text\"] = df_copy[\"concatenated_tags\"] + \" \" + df_copy[\"query\"]+ \" \" + df_copy[\"title\"]\n",
    "df_copy = df_copy[df_copy[\"concatenated_tags\"].notnull()]"
   ]
  },
  {
   "cell_type": "code",
   "execution_count": 3,
   "metadata": {},
   "outputs": [
    {
     "name": "stdout",
     "output_type": "stream",
     "text": [
      "0    [mandala, mdf, espirito, santo, mandala, espir...\n",
      "1    [cartao, visita, panfletos, tag, adesivos, cop...\n",
      "2    [expositor, expositor, de, esmaltes, organizad...\n",
      "3    [jogo, lencol, menino, lencol, berco, medidas,...\n",
      "4    [adesivo, box, banheiro, adesivo, box, banheir...\n",
      "5    [albuns, figurinhas, pai, lucas, album, fotos,...\n",
      "6    [mini, arranjos, arranjo, de, flores, para, me...\n",
      "7    [bb, lembrancinhas, maternidade, baby, lembran...\n",
      "8    [dia, pais, chaveiro, dia, dos, pais, chaveiro...\n",
      "9    [nascimento, manta, baby, cha, bebe, vestido, ...\n",
      "Name: tokenized_text, dtype: object\n"
     ]
    }
   ],
   "source": [
    "# tokenization\n",
    "\n",
    "# Tokenize the text column to get the new column 'tokenized_text'\n",
    "df_copy['tokenized_text'] = [simple_preprocess(line, deacc=True) for line in df_copy['text']] \n",
    "print(df_copy['tokenized_text'].head(10))"
   ]
  },
  {
   "cell_type": "code",
   "execution_count": 4,
   "metadata": {},
   "outputs": [
    {
     "name": "stdout",
     "output_type": "stream",
     "text": [
      "0    mandala mdf espirito santo Mandala Espírito Santo\n",
      "1    cartao visita panfletos tag adesivos copos lon...\n",
      "2    expositor expositor esmaltes Organizador expos...\n",
      "3    t jogo lencol menino lencol berco medidas lenc...\n",
      "4    adesivo box banheiro adesivo box banheiro ADES...\n",
      "5    albuns figurinhas pai lucas album fotos dia pa...\n",
      "6    mini arranjos arranjo flores mesa Arranjo Flor...\n",
      "7    bb lembrancinhas maternidade baby lembranca ma...\n",
      "8         dia pais chaveiro dia pais chaveiro dia pais\n",
      "9    nascimento manta baby cha bebe vestido bebe ma...\n",
      "Name: tokens, dtype: object\n",
      "0    [mandala, mdf, espirito, santo, mandala, espir...\n",
      "1    [cartao, visita, panfletos, tag, adesivos, cop...\n",
      "2    [expositor, expositor, esmaltes, organizador, ...\n",
      "3    [jogo, lencol, menino, lencol, berco, medidas,...\n",
      "4    [adesivo, box, banheiro, adesivo, box, banheir...\n",
      "5    [albuns, figurinhas, pai, lucas, album, fotos,...\n",
      "6    [mini, arranjos, arranjo, flores, mesa, arranj...\n",
      "7    [bb, lembrancinhas, maternidade, baby, lembran...\n",
      "8    [dia, pais, chaveiro, dia, pais, chaveiro, dia...\n",
      "9    [nascimento, manta, baby, cha, bebe, vestido, ...\n",
      "Name: tokenized_text, dtype: object\n"
     ]
    }
   ],
   "source": [
    "# Removal of Stop Words\n",
    "\n",
    "\n",
    "stopwords = nltk.corpus.stopwords.words('portuguese')\n",
    "\n",
    "# Exclude stopwords with Python's list comprehension and pandas.DataFrame.apply.\n",
    "df_copy['tokens'] = df_copy['text'].apply(lambda x: ' '.join([word for word in x.split() if word not in (stopwords)]))\n",
    "print(df_copy['tokens'].head(10))\n",
    "\n",
    "\n",
    "# tokenization\n",
    "\n",
    "# Tokenize the text column to get the new column 'tokenized_text'\n",
    "df_copy['tokenized_text'] = [simple_preprocess(line, deacc=True) for line in df_copy['tokens']] \n",
    "print(df_copy['tokenized_text'].head(10))"
   ]
  },
  {
   "cell_type": "code",
   "execution_count": 5,
   "metadata": {},
   "outputs": [
    {
     "data": {
      "text/plain": [
       "0    [mandal, mdf, espirit, sant, mandal, espirit, ...\n",
       "1    [carta, visit, panflet, tag, ades, cop, long, ...\n",
       "2    [exposi, exposi, esmalt, organiz, exposi, esmalt]\n",
       "3    [jog, lencol, menin, lencol, berc, med, lencol...\n",
       "4    [ades, box, banh, ades, box, banh, ades, box, ...\n",
       "5    [album, figur, pai, luc, album, fot, dia, pal,...\n",
       "6    [min, arranj, arranj, fl, mes, arranj, fl, orq...\n",
       "7    [bb, lembranc, matern, baby, lembranc, matern,...\n",
       "8           [dia, pal, chav, dia, pal, chav, dia, pal]\n",
       "9    [nasc, mant, baby, cha, beb, vest, beb, mant, ...\n",
       "Name: stemmed_tokens, dtype: object"
      ]
     },
     "execution_count": 5,
     "metadata": {},
     "output_type": "execute_result"
    }
   ],
   "source": [
    "\n",
    "# Stemming \n",
    "stemmer = nltk.stem.RSLPStemmer()\n",
    "\n",
    "# Get the stemmed_tokens\n",
    "df_copy['stemmed_tokens'] = [[stemmer.stem(word) for word in tokens] for tokens in df_copy['tokenized_text']]\n",
    "df_copy['stemmed_tokens'].head(10)"
   ]
  },
  {
   "cell_type": "code",
   "execution_count": 6,
   "metadata": {},
   "outputs": [
    {
     "name": "stdout",
     "output_type": "stream",
     "text": [
      "Total unique words:\n",
      "6666\n",
      "\n",
      "Sample data from dictionary:\n",
      "Word: espirit - ID: 0 \n",
      "Word: mandal - ID: 1 \n",
      "Word: mdf - ID: 2 \n",
      "Word: sant - ID: 3 \n"
     ]
    }
   ],
   "source": [
    "# Build the dictionary\n",
    "mydict = corpora.Dictionary(df_copy['stemmed_tokens'])\n",
    "print(\"Total unique words:\")\n",
    "print(len(mydict.token2id))\n",
    "print(\"\\nSample data from dictionary:\")\n",
    "i = 0\n",
    "# Print top 4 (word, id) tuples\n",
    "for key in mydict.token2id.keys():\n",
    "    print(\"Word: {} - ID: {} \".format(key, mydict.token2id[key]))\n",
    "    if i == 3:\n",
    "        break\n",
    "    i += 1"
   ]
  },
  {
   "cell_type": "code",
   "execution_count": 7,
   "metadata": {},
   "outputs": [
    {
     "name": "stdout",
     "output_type": "stream",
     "text": [
      "Example of how the BOW words\n",
      "Doc2Bow Line:\n",
      "[(0, 2), (1, 2), (2, 1), (3, 2)]\n",
      "Actual line:\n",
      "['mandal', 'mdf', 'espirit', 'sant', 'mandal', 'espirit', 'sant']\n",
      "(Word, count) Tuples:\n",
      "[('espirit', 2), ('mandal', 2), ('mdf', 1), ('sant', 2)]\n",
      "Sparse bow vector for the line\n",
      "[2. 2. 1. ... 0. 0. 0.]\n",
      "Sorted word id list\n",
      "[0, 0, 1, 1, 2, 3, 3]\n",
      "<class 'pandas.core.frame.DataFrame'>\n",
      "Int64Index: 37998 entries, 0 to 37999\n",
      "Data columns (total 19 columns):\n",
      " #   Column             Non-Null Count  Dtype  \n",
      "---  ------             --------------  -----  \n",
      " 0   product_id         37998 non-null  int64  \n",
      " 1   seller_id          37998 non-null  int64  \n",
      " 2   query              37998 non-null  object \n",
      " 3   search_page        37998 non-null  int64  \n",
      " 4   position           37998 non-null  int64  \n",
      " 5   title              37998 non-null  object \n",
      " 6   concatenated_tags  37998 non-null  object \n",
      " 7   creation_date      37998 non-null  object \n",
      " 8   price              37998 non-null  float64\n",
      " 9   weight             37998 non-null  float64\n",
      " 10  express_delivery   37998 non-null  int64  \n",
      " 11  minimum_quantity   37998 non-null  int64  \n",
      " 12  view_counts        37998 non-null  int64  \n",
      " 13  order_counts       37998 non-null  float64\n",
      " 14  category           37998 non-null  object \n",
      " 15  text               37998 non-null  object \n",
      " 16  tokenized_text     37998 non-null  object \n",
      " 17  tokens             37998 non-null  object \n",
      " 18  stemmed_tokens     37998 non-null  object \n",
      "dtypes: float64(3), int64(7), object(9)\n",
      "memory usage: 5.8+ MB\n",
      "None\n"
     ]
    }
   ],
   "source": [
    "#Generating Bow Vectors\n",
    "vocab_len = len(mydict)\n",
    "print(\"Example of how the BOW words\")\n",
    "arr = []\n",
    "for line in df_copy['stemmed_tokens']:\n",
    "    print(\"Doc2Bow Line:\")\n",
    "    print(mydict.doc2bow(line))\n",
    "    for word in line:\n",
    "        arr.append(mydict.token2id[word])\n",
    "    print(\"Actual line:\")\n",
    "    print(line)\n",
    "    print(\"(Word, count) Tuples:\")\n",
    "    print([(mydict[id], count) for id, count in mydict.doc2bow(line) ])\n",
    "    print(\"Sparse bow vector for the line\")\n",
    "    print(gensim.matutils.corpus2csc([mydict.doc2bow(line)],num_terms=vocab_len).toarray()[:,0])\n",
    "    break\n",
    "print(\"Sorted word id list\")\n",
    "print(sorted(arr))\n",
    "\n",
    "df_copy = df_copy.fillna(0)\n",
    "\n",
    "print(df_copy.info())"
   ]
  },
  {
   "cell_type": "code",
   "execution_count": 8,
   "metadata": {},
   "outputs": [
    {
     "name": "stdout",
     "output_type": "stream",
     "text": [
      "   Bebê  Bijuterias e Jóias  Decoração  Lembrancinhas  Outros  Papel e Cia\n",
      "0     0                   0          1              0       0            0\n",
      "1     0                   0          0              0       0            1\n",
      "2     0                   0          0              0       1            0\n",
      "3     1                   0          0              0       0            0\n",
      "4     0                   0          1              0       0            0\n"
     ]
    }
   ],
   "source": [
    "#Create column for each category\n",
    "df_one = pd.get_dummies(df_copy.category)\n",
    "print(df_one.head())\n",
    "df_copy = pd.concat([df_copy, df_one], axis=1)"
   ]
  },
  {
   "cell_type": "code",
   "execution_count": 9,
   "metadata": {},
   "outputs": [
    {
     "name": "stdout",
     "output_type": "stream",
     "text": [
      "Value counts for Train set\n",
      "Lembrancinhas         12272\n",
      "Decoração              6075\n",
      "Bebê                   4861\n",
      "Papel e Cia            1945\n",
      "Outros                  785\n",
      "Bijuterias e Jóias      660\n",
      "Name: category, dtype: int64\n",
      "Value counts for Test set\n",
      "Lembrancinhas         5252\n",
      "Decoração             2647\n",
      "Bebê                  2069\n",
      "Papel e Cia            805\n",
      "Outros                 347\n",
      "Bijuterias e Jóias     280\n",
      "Name: category, dtype: int64\n",
      "<class 'pandas.core.frame.DataFrame'>\n",
      "<class 'pandas.core.series.Series'>\n",
      "   index  product_id  seller_id  search_page  position        creation_date  \\\n",
      "0  29372     5795302    7931459            1         9  2014-01-15 14:59:29   \n",
      "1   7069     8243708    3398473            1        10  2018-06-06 22:26:07   \n",
      "2  28585    13717382    6729875            1        30  2019-05-05 12:24:52   \n",
      "3  36029    14777376    9085143            1        26  2014-02-09 00:41:09   \n",
      "4  11256     5644691    3645206            1        36  2013-10-15 11:07:37   \n",
      "\n",
      "    price  weight  express_delivery  minimum_quantity  view_counts  \\\n",
      "0   14.14    45.0                 1                36          567   \n",
      "1   56.80   705.0                 1                 8          167   \n",
      "2   18.93     6.0                 1                31           70   \n",
      "3   67.42     0.0                 0                 6          157   \n",
      "4  109.10     0.0                 1                 7          179   \n",
      "\n",
      "   order_counts                                     stemmed_tokens  \n",
      "0           3.0  [lembranc, lembranc, cha, beb, lembranc, cha, ...  \n",
      "1           0.0  [almof, person, almof, fot, lembranc, decoraca...  \n",
      "2           0.0  [pao, mel, person, bol, decor, minni, ros, pao...  \n",
      "3           4.0  [lac, faix, beb, ti, acessori, beb, ti, beb, f...  \n",
      "4           0.0             [pass, avuls, pass, barb, tapet, barb]  \n"
     ]
    }
   ],
   "source": [
    "\n",
    "# Train Test Split Function\n",
    "top_data_df_small = df_copy\n",
    "def split_train_test(top_data_df_small, column, test_size=0.3, shuffle_state=True):\n",
    "    X_train, X_test, Y_train, Y_test = train_test_split(top_data_df_small[['product_id', 'seller_id','search_page','position', 'creation_date', 'price','weight','express_delivery','minimum_quantity','view_counts','order_counts', 'stemmed_tokens']], \n",
    "                                                        top_data_df_small[column], \n",
    "                                                        shuffle=shuffle_state,\n",
    "                                                        test_size=test_size, \n",
    "                                                        random_state=15)\n",
    "    print(\"Value counts for Train set\")\n",
    "    print(Y_train.value_counts())\n",
    "    print(\"Value counts for Test set\")\n",
    "    print(Y_test.value_counts())\n",
    "    print(type(X_train))\n",
    "    print(type(Y_train))\n",
    "    X_train = X_train.reset_index()\n",
    "    X_test = X_test.reset_index()\n",
    "    Y_train = Y_train.to_frame()\n",
    "    Y_train = Y_train.reset_index()\n",
    "    Y_test = Y_test.to_frame()\n",
    "    Y_test = Y_test.reset_index()\n",
    "    print(X_train.head())\n",
    "    return X_train, X_test, Y_train, Y_test\n",
    "\n",
    "X_train, X_test, Y_train, Y_test = split_train_test(top_data_df_small,column='category')"
   ]
  },
  {
   "cell_type": "code",
   "execution_count": 10,
   "metadata": {},
   "outputs": [
    {
     "name": "stdout",
     "output_type": "stream",
     "text": [
      "Header\n",
      "espirit,mandal,mdf,sant,ades,canec,carta,cop,drink,long,panflet,tag,visit,esmalt,exposi,organiz,americ,berc,estamp,jog,lencol,med,menin,banh,box,de,album,dia,figur,fot,luc,pai,pal,arranj,fl,mes,min,orquid,aromariz,baby,bb,beb,confort,kit,lembranc,matern,sacol,chav,cha,mant,nasc,nom,nuv,person,vest,art,corda,crach,gratil,port,chinel,sandal,carn,cas,panel,tabu,cri,decoraca,espelh,gavet,movel,mud,predilet,azul,casori,guardanap,aniversari,ano,batiz,dec,emm,fest,folh,fst,fund,ingl,junin,locaca,mar,mur,niv,noiv,painel,thomad,yasmin,bat,liz,brind,corpor,escol,pres,feliz,divers,garden,itanha,nich,pec,henriqu,luil,toalh,berloqu,cois,nan,par,uso,financ,plann,croch,sof,difu,princip,urs,caix,bigod,cru,retrat,cheg,color,fort,miut,papel,tod,vera,acessori,enxov,sai,almof,aninh,din,dinorex,dinossaur,gael,joa,joaquim,raf,unidad,bem,capach,class,cria,divert,mickey,tapet,tutu,vind,apliqu,difer,namor,appl,com,espec,pass,passar,pap,quadr,ana,consagraca,convit,crism,lia,padr,boc,frald,mao,col,joi,natur,pedr,prism,portatil,real,troc,biomb,decoracao_cha,em,model,no,rip,tre,customizaca,ilh,pouc,rebit,roup,spik,suppli,tach,tud,un,sousplat,co,decor,infantil,lar,puff,rus,sapat,util,yellow,almochav,off,quart,ros,whit,hadass,hellen,lac,led,pra,barb,bol,canin,patrulh,taty,top,mat,pequen,topp,mold,bda,estanh,frozen,maur,nov,plac,quer,reunia,safar,suculent,cm,florianopolil,alianc,anderson,compromiss,prat,vaness,car,lemb,eva,detalh,sabonet,sandr,alic,cofr,encant,helen,jardim,manu,arc,bibl,mochil,noe,tem,etiquet,bols,feminin,princes,cecil,higien,unicorni,artesanat,letr,manicur,pedicur,perol,avo,animal,bit,marmit,mund,artific,fofur,girassol,medi,reg,mari,neon,pijam,slim,jul,lat,cadern,inic,tel,sublimaca,casac,dat,said,salv,the,tricot,bonec,coraco,cortin,ping,cadernet,vacinaca,cachorr,casal,pug,linh,metal,pinh,descont,enfeit,bord,piquet,pc,coleca,coleco,lux,mal,suplat,acril,ale,flameng,carne,gabriel,maternindad,ovelh,bernard,andre,aqu,bia,dian,dom,ist,luiz,nin,op,pret,sarah,talit,ter,terês,thal,borax,jasmin,lol,receit,sem,am,bottom,jw,lingu,noss,anel,falang,jewel,ped,zircon,categor,favorit,iguacu,local,rj,marsal,zam,isabel,madr,do,alpac,labradorit,lequ,ariel,cin,cinem,circ,displ,lamb,vintag,banquet,demolica,ferr,lumin,surpris,zip,cap,dur,instituc,banc,bau,mad,abstrat,azulej,bloc,mask,mont,pj,pot,blackout,blecaut,bleckour,cort,luz,pvc,magal,melanc,micael,sam,soph,harry,pott,anunci,gravid,notic,antonell,aur,flor,ibiting,provenc,cienc,contabel,pedagog,profissa,simbol,bacan,costur,hom,lotu,my,post,amamentaca,chevron,copaz,cor,degrad,format,kk,ml,per,sup,wing,encontr,necessa,fret,imprim,paiza,regula,elefant,revelaca,and,biciclet,bik,viv,are,churrasc,pared,relogi,la,pet,comunha,fim,natal,prim,religi,cest,fio,malh,aromatiz,cl,dimitr,abajur,comic,dc,gib,jus,lig,limun,fet,film,pe,por,botec,cartol,centr,vicent,catarin,mash,be,letic,mint,perfum,sach,to,anj,farmac,remedi,caricat,emoj,geme,body,mesversari,arqu,scrapbook,florind,carimb,psic,psicolog,artesan,biscuit,isabell,mergulh,pan,russ,evangel,flash,relampag,vir,ref,vaqu,luis,liri,lua,mei,apar,apoi,vend,jess,agend,marit,fornec,karin,avuls,lenc,recepca,tac,aniv,aniversai,bebel,cac,dav,fazend,miguel,thi,twist,vic,wedding,bod,borbolet,mae,profes,ju,marcel,ti,futebol,math,medalh,pint,ecobag,go,pikachu,pokemon,puls,vip,coruj,embal,produt,agu,bent,garraf,livr,oraca,oraco,orquide,plant,suport,varand,vas,bombom,ant,bel,compr,fer,lei,praz,amigurum,coelh,elo,fof,geral,lojist,benca,chuv,xic,bday,dorm,masc,silk,cact,laur,sere,chapeu,loren,vermelh,anal,paril,qualqu,beij,bj,sal,curv,leit,objet,patchwork,regu,gat,tubet,futon,sob,turc,camiset,squeez,galax,univers,oval,pessoal,amo,hero,meu,voc,desej,tamp,ingress,joan,amarel,calc,cabec,cam,convid,decid,van,caa,exteri,li,variedad,tulip,filh,gost,guirland,contorn,premium,comemor,event,lucc,liv,vfrr,terc,estud,mamy,tropic,clica,digit,inter,pdf,mim,saqu,hoj,so,milk,pepp,pig,algoda,mois,cert,loj,tio,isil,secret,cinz,bul,estoj,motiv,music,esponj,lindoc,brasil,colh,eud,fulec,alcool,cosme,gel,gol,promoca,spray,faix,palm,pastilh,cascat,barr,ceram,mod,dour,rafael,chocolat,cardapi,caf,manh,surpr,colch,fuxic,eucarist,paul,sao,mous,aco,frut,homw,seweety,direit,folhe,our,strang,thing,biel,manuenz,reborn,sort,plaq,brinc,bailarin,divin,ima,chopp,camilly,hidrat,ca,bro,cervej,petisc,lanch,story,toy,wood,trint,vidr,cia,evengel,marc,pagin,palavr,plan,salvaca,aluguel,debut,exclusiv,flaming,capsul,dolc,gust,cacho,malet,rap,rapos,vaz,glitt,silhouett,fras,os,seu,sonh,antig,moed,tradic,lidy,vit,mosa,luly,prote,tranc,bal,bloq,espir,lun,mait,minecraft,obrigaca,outr,bich,florest,avi,gros,mx,talagarc,tec,balanc,pinu,cour,sinte,cupcak,alt,bala,bail,carnav,cristian,escult,luciet,querid,tedesc,vov,bandej,porcel,edica,melhor,imp,it,myrell,rol,fichari,mater,pranchet,removi,dupl,atac,bodi,lis,moletom,poliest,culot,encomend,prematur,saruel,dpa,lup,lupadp,circul,congress,irm,palit,truf,grand,tapeta,sac,suj,nur,resin,imag,lea,yeshu,liturg,gravat,branc,cant,gourmet,ide,tx,cetim,organz,benici,benjamin,pand,fit,lonit,carr,disney,moment,vitrin,fad,exclus,amand,dud,fp,sophi,uniconi,valentin,beatriz,catequ,eduard,forr,gustav,lavand,fac,matel,metr,termocol,cinderel,jh,lembrac,felip,kraft,zoo,adult,canet,lembret,doc,ven,prate,canud,chantily,camis,composica,tamanh,celul,empr,pop,socket,complet,fantas,minni,nen,polv,mama,tri,bor,barbi,design,manequim,espej,hall,lind,vari,final,quant,profisso,seguranc,vigil,lous,bib,brun,lavin,loll,escritori,gra,brinqued,country,abacax,coc,gi,havai,mill,moan,val,basic,lov,cec,fte,pratel,cotonet,moza,polaroid,angel,enz,barbe,arvor,galh,bariz,comod,ret,heroil,ladybug,macqu,camp,fusc,obr,pais,rural,falec,fotograf,roman,personal,ame,coraca,mor,lingeri,quinz,conjunt,loung,pallet,avia,cueir,flanel,laque,vo,japon,zen,champagn,mirn,ressac,carretel,epox,arthur,monic,plas,turm,vazi,past,simposi,unid,bicol,red,marinh,cruz,pont,vagonit,guard,masculin,souven,homenage,individ,log,paraninf,aparec,decoupag,senh,aviaca,ceu,deit,anch,eurorom,me,fricot,tricolin,pac,ambi,chev,feltr,ombr,madagasc,bell,giovann,bandeirol,carol,numer,silicon,sogr,antoni,cadu,es,agronom,later,mesinhs,trip,petal,net,carolin,basquiat,grav,bangtan,boy,bt,core,day,kpop,lil,mikrokosm,rox,spring,xadr,barat,mulh,dal,iril,lanc,amig,brig,masterchef,patric,lustr,entreg,pront,carton,salg,rafaell,bi,famil,faz,gulose,celebraca,pires,turb,zoe,anatom,mm,ajusta,asn,miau,hermion,by,empori,carroc,baltimor,dudu,tiffany,adorn,asa,etc,decoraco,maravilh,superman,tema,vel,malu,mariah,daniel,snoopy,bot,gorr,mel,tric,alan,luv,touc,tnt,kid,prec,mamad,lapil,padrast,ii,modern,relev,isa,jp,itimal,aranh,samuel,alme,arroz,func,gimen,relax,fernand,gui,ben,bijut,chap,fin,gargantilh,colchonet,beg,ninh,redu,dric,deus,diferenci,egipc,estatu,estatuet,indi,maat,descrica,gelad,pinguim,alc,travess,display,magic,palhac,te,froz,alet,graf,tanqu,torn,xr,casamwnt,chop,mqv,domes,furnitur,negr,smart,caminha,gal,client,prestigi,margar,isad,macaca,macaco,rococ,cobr,ocasio,lif,planej,sempr,suspir,andr,ecolog,snoppy,document,frufru,nev,tal,ninch,suav,dren,este,linfa,plot,sala,cicer,nicoll,jant,isabelly,ciment,concret,handmad,newborn,pirat,pau,liquidific,crianc,je,mobil,eu,tim,dog,max,amer,capita,lo,night,urban,charut,mio,carte,suh,tricotin,imac,moni,milen,rebec,frasc,term,usual,cint,gord,noit,artig,sorvet,andy,birthday,bryan,campio,cav,juan,noah,ving,nicol,estrel,alumini,barcel,virtual,accessori,cabel,marin,batizado_menin,david,bic,rotin,whisky,wisk,gripp,cron,bas,cupul,plast,inox,marabu,neg,poa,juliet,rom,crist,map,paspatur,agost,cat,necessari,oliv,st,manuel,gaby,bar,ferrar,formul,hot,jf,lev,trof,wheel,lembrancibh,apart,list,genov,rei,mais,pokemom,cai,adeg,desmonta,vinh,caval,cocor,cowgirl,cont,futur,var,chef,hei,poder,padron,tabl,enric,riqu,lal,friend,geek,arab,las,aspen,varal,bullet,clutch,journ,essenc,ident,pacot,visual,novidad,mg,dad,rec,not,chaveirinhoz,dre,vinil,bergamot,graman,bann,cantil,grac,igrej,memor,retr,rosc,serv,tot,tv,shark,grelh,voil,jo,corr,congel,serigraf,shopp,mural,chic,goian,fod,fodas,se,assinat,atenca,vanus,fe,questa,noivop,filet,rommanel,buqu,geometr,azuil,benjamim,biscoit,molh,organizaca,stor,contat,indic,telefon,suspensori,veridi,onlin,martin,tap,vici,wash,envelop,jut,larg,lu,nay,sizal,belly,morang,pitang,tort,hell,kitty,aram,gratida,verniz,ded,curs,monogram,driv,gb,pen,colet,valesc,cle,est,lic,macram,campon,esc,sej,acriil,elil,frent,rack,tat,mens,personaliz,sua,carruag,conch,gauch,vaquej,calendari,argol,articul,impress,refil,skechbook,chupet,prend,cade,esteva,pescoc,cut,sulfit,anthony,empreend,grif,pirulit,caqu,leonard,neutr,unissex,nic,apaixon,googl,guardio,chril,rody,boa,opca,palh,pergol,pioneir,dam,diret,impressa,skat,rend,pipoc,clar,pu,logomarc,kluivert,peluc,inauguraca,lham,luci,part,sim,form,alv,gom,aul,cartaz,agulh,bambu,craft,banheit,casc,vou,reciclat,necess,carto,retangul,escolh,raimund,hous,mamil,open,cang,parec,tijol,alegr,nam,adolesc,pente,voal,gorgura,cad,tam,bancari,criaca,lacr,macarom,fec,frid,graciell,headband,juni,sandy,rotul,jardin,fach,perfil,da,paol,mobiliari,montessori,rodrig,manteig,ape,assessori,carl,cigan,don,mass,swet,diversa,diverso,parqu,inspiraco,troux,pf,soc,girl,juju,velh,alann,lanchonet,laranj,suc,veg,agn,kauan,balca,fech,ballet,pink,infinit,bald,giul,alun,jb,relicari,cassin,prox,layout,recami,solt,claud,cult,solitari,heineken,nad,kay,mary,mk,fibr,gav,gg,shop,ral,anatomy,grey,maith,chei,instrument,candycol,ann,xv,ap,puf,brux,halloween,abelh,marvel,lag,montanh,posi,estof,galzer,pastor,redond,paj,caminh,candy,elis,geov,hvghg,abri,lad,bracelet,brav,grad,universitari,souplast,coloc,monstr,sa,sulley,passarel,skol,anotaco,quian,folclor,aconcheg,pes,poltr,ecol,yan,aventurei,mescl,qual,sling,wrap,liqu,medicin,aparelh,miniat,abc,anual,kokesh,batman,mumu,anc,navy,altur,escud,tub,gab,bab,clean,referenc,und,chiv,talh,jm,ps,nest,en,chal,verd,citaco,cod,motivaca,salm,fram,etern,sou,alexandr,jos,otavi,satosh,lindaa,zon,bob,le,man,cresc,tamb,domin,concorr,parab,tablew,manhattan,maf,lim,whatsapp,sement,armari,louc,seman,minim,hollywood,unic,aniversaei,denil,prai,thiag,mickaell,sophy,vii,viag,celt,ecc,emb,magne,sousplast,lail,mikaell,cub,laurafaz,lel,cactu,pasco,moren,thom,gut,raffael,miol,els,frouzen,suspens,cachepot,decop,tecn,trabalh,pg,souplat,fern,wr,xex,emerson,torr,babyboy,chup,chanel,raste,lulu,tonton,cei,alex,medit,robert,ninj,ninjag,barrac,gess,hort,vertic,perfeit,versa,lavab,mandria,suic,touq,hel,henry,vinic,aventur,dieg,ada,costel,gynpost,ir,comport,sinal,boullet,papelaria,pontilh,backdrop,fornc,rp,bco,echev,nodul,hist,olh,pux,crch,macic,pendur,retir,show,simpl,veicul,brid,inspiraca,agradec,put,quebr,ye,cer,giz,hoooked,zpagett,contabil,econom,war,ed,rto,venezi,mic,janin,kaban,tcc,tttt,espalh,dossel,tet,contemporane,orig,cientif,civil,deleg,milit,polic,abaul,fru,gold,kaleb,casq,forma,picol,envi,imediat,jj,pro,quartz,supr,silvy,mulj,mac,ee,mig,prosper,spiderman,yag,escapulari,trinity,may,particul,autocol,pist,rigon,stuff,aaj,ar,string,you,cid,portugu,leandr,pastel,sis,preden,teod,aa,raquel,mateen,bl,fak,lariss,uni,ecois,personalizaca,malv,fashion,wd,mique,minh,coro,franj,band,rosenild,dent,miracul,conexu,autoades,mt,lincoln,stras,vid,menu,moac,oratori,pizz,decoca,incensari,rainh,cobog,crochet,muril,vara,maju,afim,recicl,escov,michell,pend,pod,us,isaac,mallu,barril,bistr,chok,mav,bolh,saba,cullin,harmon,aich,anny,bonit,helois,layl,maus,meliss,milly,salma,reveleca,mosquit,chalkboard,cintur,agat,bom,cober,sanfon,ganesh,emilly,fur,troll,personalizad,luan,hillary,brasa,levy,bosuq,chhg,lembrancih,leo,nai,personalizd,detetiv,predi,esmag,hulk,pok,tranz,boutiqu,guar,afes,hug,mundobit,nick,nive,pietr,pr,prepar,ravi,vj,tom,triangul,narut,regul,tj,isaqu,alli,bridesmaid,negoci,oop,mot,glit,automa,stamp,cool,jack,tambor,mini,pernambuc,pad,francisc,ott,retratil,vagalum,funcionari,deix,entr,gospel,trist,cheir,madrug,tipic,abord,idaian,dia_das_ma,destaqu,professot,bowl,rolh,bater,blu,cachimb,hast,limp,ocean,pip,barq,brincadotec,montessor,cabid,gravaca,apt,count,strik,debbi,graptov,fran,reliqu,escald,vagn,cenari,idiom,jate,girassoil,smbranc,lix,biju,infanc,regr,dr,medic,bing,criat,rolly,marcen,modul,moisel,autentic,reduz,nao,ria,dinh,sugesta,vs,zombi,siti,smurf,eo,louil,vuitton,fas,horu,plush,paz,pomb,toalet,apostil,kethellenn,seren,dev,chi,lencoil,enferm,amarr,citrin,retalh,sol,dai,escandinav,mak,batat,ingrid,aniverssari,alfabetizaca,complex,ortograf,silab,bring,con,bande,bub,fo,dossaur,bambin,fav,blist,boto,marot,redm,seri,avent,conj,sobr,unisex,lorenz,marcell,marron,fortnit,gam,resenh,sacochil,catol,conceica,confirmaca,presenc,carrossel,unh,cril,balo,benco,adel,ruth,sthephany,futom,futonet,teolog,craquel,pilintr,ze,kahl,mexic,jjj,netflix,cafof,reformaquart,aquari,terrari,dar,pia,desaniversari,guestbook,lorenn,lurd,manuell,desball,al,chut,guilherm,renat,tiag,rian,promoc,acquablock,sarj,cerej,daian,gigant,rod,ker,djang,chat,escorr,hairpin,leg,apretech,campea,laryss,ian,wert,fictici,pesc,cachep,patty,august,mibi,miniom,nichey,supernat,amigurumil,cm²,pil,festiv,cart,gotic,rock,sb,arom,couch,gengib,queen,far,razo,tungsteni,adiv,ser,vai,ganh,banq,motor,ub,elizabeth,kettlyn,lop,cak,crucifix,paixa,diam,advog,vis,kaw,rosanny,sapatilh,tip,aquel,prefer,bexig,chave,descans,lug,total,fabr,mas,chifr,capuz,junt,allan,rasp,solet,tir,brynd,ig,zac,maqui,nud,peleg,pinterest,trc,permanent,cmx,industr,metalon,adon,smilingu,feme,mach,patat,acetat,iii,fosc,hor,ital,surf,tb,aces,recort,turu,legal,cubist,imperdi,promoco,precis,wish,scrap,iza,persona,hidraul,flutu,black,kylan,out,certific,glamour,olaf,jozenaid,nicoly,ds,lg,educaca,fisic,bee,octavi,antirreflex,blackmold,is,new,orang,ruby,caud,mermaid,peqen,bons,giall,piquiniqu,joann,tum,preferenc,coponud,engenh,marrom,wishlist,pix,dominic,marshmallow,pirulita,vao,paut,human,lagun,arm,alfabet,bosqu,esth,fall,garot,gravity,inspiratiom,present,stori,pm,artis,broch,encadernaca,sketchbook,assent,imperm,holograf,derick,harrry,homen,formatu,colme,soquet,plu,caleb,esoter,macon,gugu,logotip,odont,receituari,vie,coleg,floc,ccccc,fris,espet,dimenso,abn,sacr,cultiv,paraju,merc,primogenit,semei,caet,georg,artur,catharin,pantuf,agent,comunitari,estaco,quatr,carrosel,revest,aromaterap,esot,rodi,granj,ovo,jesu,londr,volt,patch,gram,itali,pur,ari,ludic,dentr,arauj,erik,elen,nau,foga,lucivan,bisnag,segur,franc,barc,espatul,offic,ken,palom,canecad,desped,impermea,babym,titani,ktaf,kimon,biquinil,girleid,babylook,uniform,desenh,diog,robson,verbet,silic,ench,tripl,summ,dua,catalog,dei,ja,blogue,romp,friday,rav,rn,eco,history,produca,sustenta,jov,tit,ov,lapid,tumul,triatlon,confeit,celm,dic,dind,re,bolso,budweis,tonel,sckrapbook,segred,chapaperfur,idad,comec,disc,ivet,vacin,renovaca,vot,capot,bijoux,catalogaca,engrac,gross,chf,lais,cozinh,pa,avel,fix,suet,ver,souplait,fold,facebook,carreg,dry,gabryell,happy,iar,jard,baguet,trag,eric,ggh,cxxxxxcx,presilh,bund,ric,emil,pic,nutrica,morceg,fon,ouv,esplen,kkt,renascenc,mis,revist,busines,komb,sush,edicul,temper,confecca,doi,relacion,internac,listr,ppl,zag,zig,galea,louis,um,apergaminh,gr,capel,diplom,text,kik,primav,palhet,duo,cana,maternidadetem,dorc,amizad,glor,paga,bomb,mv,ajud,niq,transvers,lixe,pjmask,henrr,nivet,mob,castic,avrsa,mol,maternjnad,romant,queij,plafon,heroin,import,licenci,tecid,henrikey,sed,iv,lavavel,alessandr,maternidad,zury,dan,haven,brac,comerci,danc,bolot,acopl,brinquedotec,eloah,lary,coop,penel,gio,mr,robot,teo,rubr,best,saud,lembr,jhosy,cae,pethous,toc,zebr,aplicaco,peix,button,trapilh,uva,noel,andress,zga,fofuch,champanh,got,stark,matrn,cilindr,ampliaca,prom,cifr,gsa,jungl,party,dop,kamyl,projet,quadrocloset,astromel,adot,honey,quas,rebon,den,borrach,tapec,matriosk,portfoli,portifoli,alyc,low,ludmyll,ideal,niquel,ab,almofad,aspir,atom,cerc,du,modal,ond,orient,piramid,lizzi,bumbum,pessegu,enzofaz,mmm,tunic,bag,vict,evelyn,anoemm,ea,evellyn,comemoraco,minhoc,abel,administraca,adormec,aliv,atle,avio,ball,batgirl,betty,blaz,boop,broz,catno,chantilly,chumb,derep,dragon,especif,gamyb,incri,jasmim,joli,littl,lok,loopsy,marri,mov,pat,pocoy,pony,porq,pow,rang,rapunzel,repent,reveillon,scoobdo,smash,smil,sold,sonic,such,tartarug,tinkerbell,transform,yhasmin,cro,er,massage,envelhec,necesa,tul,feit,chan,luu,babyk,segund,wall,charra,clays,decoracaod,fabi,losang,opco,banan,vmi,trilh,delic,versicul,vi,piscin,valentim,orc,aquarel,corujit,greg,agath,noven,fralda,glob,terrestr,xod,mosqueta,tubolat,marsh,pacht,srtr,supl,beauty,quadrosal,clin,moniqu,rh,personalis,ruan,maizen,quitand,lael,mia,janel,vitr,hum,botafog,coff,ail,ponc,ou,bedroom,bp,pel,ion,cord,caixot,feir,fgggddf,giu,aroma,arianny,mour,ok,vicenz,closet,consum,pompom,sartor,brsp,ast,bivolt,isop,maquin,sel,degcomunha,floresc,estilotex,acessi,pne,kbo,motivac,personaliza,fir,fre,meg,suculemt,conduz,sally,dj,marshmell,maryn,novembr,df,becc,kelly,madalen,sparkl,maravilind,falaming,shambal,tigr,turmalin,veron,edwig,glauc,acdc,ranch,celin,rr,bumblebe,hannah,judith,pimpolh,cateques,espum,caixa,efeit,biquin,jennef,gu,amoo,jaul,celebraco,obrig,compelt,lady,ameli,in,poulain,cenograf,bos,chefnh,acab,nunc,teocra,frisbe,revend,classic,culm,loc,invern,bati,amal,chac,mafald,toqu,imper,constru,construca,tra,acetin,serenity,mik,chocol,garant,herry,ram,desideri,fam,kis,klimt,pin,corp,kylin,reborm,ecant,beh,nr,tbm,arredond,buj,guit,teen,tend,lembranl,sky,alm,cx,osc,visita_,visita_digit,boi,bumb,giandu,set,mist,vitor,insum,ali,ateli,born,ensai,sar,calm,keep,amament,tifany,kat,kitkat,gug,lamp,lotr,pelud,alanil,anitt,vivil,derrap,bon,pneu,dioram,maquet,roombox,pca,kokedam,musg,camaf,astron,palet,alfinet,botom,boton,kah,vers,diamant,comum,crech,deput,jorg,luig,passei,lantern,adri,curt,bbe,aca,heb,nalu,giratori,jonat,lany,mirel,nand,nim,weverton,possi,el,certida,vestid,fals,studi,emojil,empresar,sucess,thomaz,ro,jac,rebecc,diari,angelit,grimori,tolkien,centope,isac,raph,confe,glac,peanh,botton,caliel,fath,adesiv,coorden,leir,salopet,che,emanuel,fiqu,firm,otim,restaurant,hercil,jur,parcel,boh,cerimon,coisit,eleit,leid,instagr,templat,vol,valent,catl,lh,matema,nutr,certfic,complement,picapau,escrit,perc,produz,ph,matte,chakr,japamal,ofert,fred,fri,emi,lon,gumball,baralh,lip,york,mulan,angol,dangol,silhouet,utilitari,afilh,peg,varet,esperanc,hashimot,royp,hipopot,comemo,babyl,ah,irma,umedec,guarulh,catec,tricicl,elz,apen,ryan,gabrel,cybel,wagn,saf,plantaca,garraaf,diametr,rein,vam,vim,tabet,exempl,priscill,utencil,infant,juvenil,viola,phi,tuli,lindeza,esper,coqu,sent,cacul,mikey,trec,casamsnt,nav,rio,sp,thalit,bolsa,lnd,camomil,frev,joc,raul,alfaz,golf,francin,fef,sabrin,felix,janain,castel,oficin,bvv,eliz,punh,god,adnet,imbu,nickol,mily,aind,mah,bh,nivel,valen,talent,recep,bern,cerebr,pufil,interi,bolach,babit,dohl,dedic,etnic,estimulaca,ces,ge,paw,jg,abrac,na,porc,zion,pikituty,crem,arandel,camarim,cald,giraf,trel,dual,vert,lav,yur,josu,aplicaca,flavi,diy,punk,serp,front,alden,baptiz,bud,deisy,fotos,aveng,roblox,bebe,emily,cartel,wif,har,malaguet,molec,nylon,uau,britt,qb,magisteri,estil,anim,sirlen,bole,amorprazol,feijo,foil,yar,hp,antiderrap,sonec,alin,lembrancianh,bilh,abajour,padra,came,bec,royal,chit,plastific,marciael,pom,cravej,criatura,escam,karol,cegonh,chd,agreg,parafus,playstation,juventu,mirim,ult,jat,giseld,caip,aba,blog,divis,facu,junc,rattan,cavern,draga,registr,horizont,regia,azu,intern,vivien,maluc,goku,cili,cicl,dna,esport,moniquefaz,ternur,cuid,dirij,aeronav,lisowsk,batist,vampirin,gin,myself,genealog,gay,cacarec,pis,manau,sap,jaw,explosa,madreperol,gorgur,fengshu,tao,ore,control,play,station,beliss,bota,gir,majestad,apresentaca,identificaca,kitchen,facil,canguru,divulgaca,sagr,encadern,prof,juli,giov,decora,rost,tur,flamul,amass,dall,sued,fev,rez,futtom,cavalet,arranh,charlott,outubr,king,lapel,gvt,vaidad,pp,analuis,gik,jes,naty,presis,silv,gremi,jacard,elian,minil,pesso,deuteronomi,gatificaca,estel,interess,natalin,reflexa,bandeij,jair,camill,tabat,amar,daniell,covit,karl,th,hogien,porqu,duff,papela,cleud,malvin,sous,teix,filtr,her,let,beliz,shabby,tia,madu,bloku,hotel,mult,sublim,contruca,jhuly,burguin,sofistic,canel,anton,esf,pirograf,mirian,vilm,dant,defin,mckey,emoticom,vc,menstruaca,hexagon,tony,herb,diet,fich,sr,sra,sign,laguit,radiolog,esr,celizangel,israel,thay,exten,portug,mcqueen,ntlh,francilen,mudanc,vivian,patrick,janet,krug,vl,font,artoil,stell,pep,caterpi,dayc,int,card,gp,arineid,bruc,hortens,anenh,potte,chock,mai,flori,contact,cach,custom,shot,bris,rosquea,tor,tronc,publicaca,aury,macac,smoking,tenh,cic,micang,pulsi,ilustr,madrinh,nunu,encost,gramat,absorv,durm,corinth,gislain,grafit,catherin,afric,tl,iluminaca,inclus,nat,casaquonh,aysl,bebb,mascot,ai,nathany,derek,doo,scooby,desapeg,tubt,distanc,capiton,grandm,peruc,blus,ecolumin,hey,arv,mylen,pajah,dun,carrimb,tequil,tr,ativ,educac,beatl,or,maternid,pollyann,tos,princ,tatu,rosan,petit,atend,curitib,tabac,canivet,lll,combinaca,kalleb,vittori,ba,reinauguraca,formulari,navi,nursery,john,hk,urn,composico,fisioterap,monalis,tild,dellicatt,heloiz,paulamiruab,caminhon,talv,flav,tav,tunis,spa,cooooolllll,pamel,comig,espac,sobrancelh,aque,ondul,sobrem,coring,camel,cordo,cs,transpar,jk,marid,aniverdari,gig,mwnin,calderet,traduca,bad,dv,motocicl,agarr,unitari,board,lett,viol,polietilen,amigaoza,fivel,khlo,eloh,mart,absolut,vodk,binocul,antony,tren,energ,pool,brawl,comemoraca,press,filigr,palmeir,aladin,ferrament,vitu,aniversair,gem,propost,cuec,deu,risc,ach,moxhil,sentiment,baquet,cirurg,moguel,transport,mamade,lbranc,youtub,confecco,kraf,marly,nilson,wlberton,onc,br,biscut,jurrasic,park,world,milh,sz,pla,vitraux,provencap,kaiqu,regian,miroc,botinic,melind,jam,sabed,peq,bubu,litr,abricot,hidek,ursal,oracaoevent,nem,profiss,ho,oponopon,lembrancinb,ayl,lightgray,roset,juh,pandicorn,oli,folhetim,chas,patrol,nicolly,anow,chevrom,decorac,gabriell,dor,felic,mid,hig,sec,inspir,pendriv,acamp,artesant,draconil,ovn,estej,forc,tpm,supris,wind,marrycrilic,terceira,antiqu,consultori,mcque,onix,templari,esgot,gest,sex,tard,champiom,leag,madrid,caranguej,extern,pardel,quim,vent,brahm,cup,buffet,camping,basta,caldeira,jgu,ilumin,memel,blitz,doili,semijo,aaaa,alinn,clipart,vet,hh,mgrval,tttoc,martern,dobra,jeov,testemunh,ivon,moral,juventud,dolly,nobr,elizandr,conc,campin,soment,lilian,corac,gslax,chafariz,qued,cau,kalancho,sorr,sublima,will,bolsonar,elena,poli,artês,charm,vidrac,elephant,gaiol,narc,jurassic,mesverssari,geometric,wev,boin,atual,cidad,geo,nation,aument,annahel,intelig,reposiciona,reform,lermbranc,seleca,agor,acp,m²,loft,comput,escrivan,estoqu,garaff,canv,ny,misericord,cinh,caragu,caramel,rg,twistt,alvin,esquil,majestic,ganch,pegboard,dak,gala,ses,simon,legging,acupuntur,sweet,corrent,cust,bijux,loan,christian,dragonball,hq,ren,figud,squezz,carriol,look,paraib,ecolh,fend,trool,aloc,barroc,coach,paidrast,stick,magent,utensili,turques,wir,gisell,diurn,meltom,psicin,pul,reutiliza,butec,calcul,pao,ao,mochilh,utel,eli,cortiin,armaz,paiv,saudep,lul,id,beat,vem,expression,impression,chameleon,gypsophil,bisot,lb,moldr,tern,flech,presentei,gatil,cabeleir,hair,bocal,fellip,short,tenil,bebezim,toilett,fotmat,analis,atlet,chantil,felty,mew,picnic,cachecol,chalboard,vac,canjic,suzann,soft,jujub,bast,mf,farmhous,arrum,outlet,amanh,mil,dadu,ellen,forky,braso,vasc,xal,intantil,savan,ensin,peridot,cueq,prop,hrry,ani,san,amendo,vint,jv,foc,nº,temp,mesm,educ,betin,shrek,armaca,necesseril,ricard,shimm,shin,ta,doll,faculdad,insert,lin,sin,acent,nenil,acr,marian,eiffel,zapzap,edicaca,fab,metamorfos,ladrilh,pokebol,bead,perg,marrgar,vestuari,kau,pi,violet,ano_fund,liz_,bautiz,suellenn,pmg,premiaco,sc,sh,mc,multius,paty,planning,equip,galg,kb,bodychain,chain,dualcol,joyc,mathl,elas,lettering,trech,tumblr,vision,herick,matetn,nac,vide,redom,compra,diadosp,entalh,rq,dimjum,cpfj,lucimwr,abacat,mec,bale,jon,coral,kamilly,atiba,pinc,mo,oi,passaport,semen,odontolog,chiq,pol,lima,nsr,almif,ag,impermeav,jacquard,macedon,pilot,desk,lenbranc,clav,kamill,mommy,groot,meig,perd,lorru,planet,ecology,mosqueto,florentin,suqu,mi,enrol,celofan,kil,boj,cachac,oss,money,coberdrom,edredom,cass,rit,albany,andriel,annalu,trapezi,autent,rua,botija,ga,mirell,papeosd,lovely,brennd,trocip,chancel,sinet,cabecud,headphon,son,anelis,jar,bren,naom,ky,estet,sering,corin,achille,orix,vil,origam,fancy,nancy,high,monst,reforc,cent,eisenbahn,batom,donut,eletron,aladdin,alladin,carinh,smith,lobat,express,heart,festej,rab,zeca,delicatt,multiplicaca,pressa,fusq,kg,merin,inaci,sele,zicorn,turis,cano,nordestin,henrik,abacaxil,adica,degadica,trein,publicaco,makeup,coloret,regat,multicol,keil,giord,transit,jull,ole,nathali,dhai,guril,sinalizaca,chapel,granul,outon,kai,nord,alfred,caru,duvod,comesti,conhec,noir,babi,org,pos,uma,truck,cieny,nathy,gamel,job,zetex,lizz,tunil,tca,nesseci,wrapp,abert,pisc,piqueniqu,astr,escur,school,sge,celi,riz,lum,missang,textel,pers,tsuru,microfibr,gorgora,alter,lxa,malm,medus,eloart,bulgar,yog,comor,menos,artcheli,raco,granny,squ,woodland,incen,miin,ticket,kw,demoisell,sacola,hpl,plafom,joic,thayl,canalet,fedtschenko,marginat,dudufaz,mau,sinton,dreamcrillic,laj,gisely,romul,aniversar,lrmbranc,blackpink,jaquelim,quartk,lembrabc,crom,exg,pong,raquet,browni,pagl,perk,tob,cha_de_lingeri,argonit,andry,gabinet,lilith,customizaco,bey,beyblad,blas,selv,bombach,buzi,exu,pombog,bucal,lembrancinhakit,igh,ocul,otic,oz,jeron,xang,fragment,liquidaca,fidel,policromat,credenc,construtiv,tint,faqu,cartoes,ness,kombiiiii,teyl,jan,vinill,haw,elpr,giann,pub,quilling,albastru,hokag,hang,camil,analu,quent,sunnysid,tou,shak,nu,edu,bonex,jiso,revellion,shampo,rayan,iba,iemanj,adr,papal,batis,gnom,toallh,majest,brend,aaron,microfon,que,fil,wer,terr,suit,tifanny,jarr,chocoton,silhoutt,transf,bind,encontra,idet,lem,weding,lembrnac,esp,mochill,semafor,yay,ªlinh,pant,santiss,trindad,macom,mistic,vegan,iog,reluz,eucarisit,podolog,sav,presepi,xg,begon,brilh,pharaoh,assist,premiaca,aut,neck,golden,mast,devoc,recr,fabrici,giftbox,vinc,descabel,hogwart,crista,virt,sakur,comb,aiv,choraming,fei,proib,reclam,sorocab,pipit,dig,msriomari,uz,samdal,severin,festa_c,anotaca,rai,simpsom,baton,bibliotec,cfyc,bronz,campeonat,fitoterap,met,herlan,lembanc,necesseri,atoalh,dg,brd,chanfr,personalizadas,pfa,risqu,sop,loca,po,sugesto,mencion,decoraplu,myllenn,vitori,deck,selen,lebranc,antonel,lyv,relaxotan,uai,bory,receb,kanik,mark,poetiz,trent,crf,qu,ki,kiy,rain,grm,vontad,vestidosssss,guart,formagenet,abenco,deb,stationery,adrian,escoc,mayandr,personla,tmap,gorduch,ainf,pens,tublet,vez,girat,ranc,viaj,coffe,up,estrutur,henen,copor,lf,adivinhaca,offset,scrapbbok,echarp,sm,tatinibaby,zinc,all,desidrat,acolh,vitamin,hooponopon,azeved,jenif,chang,bd,noim,sthefany,textur,sul,vea,ment,reat,dif,ord,pincel,ate,voad,espor,prac,cavidad,cambra,bn,sertanej,titi,sag,igual,multifacet,mecan,laviny,wonderland,public,embut,food,odontopediatr,amb,papagai,propr,wallpap,md,cabed,amoeb,vin,diagon,goret,tpu,fralld,meninalux,ctrl,esol,jhon,gulosekm,susy,perons,sansa,acerv,di,ladagakid,vick,publ,marchet,alimentaca,ivanet,aval,tipograf,ppi,unidadad,exposica,gf,babyshark,boby,squez,demal,conf,drbut,kethelynn,manoel,vh,rosangel,link,patisseri,rustic,bordeaux,bufal,evelaca,akin,girass,espes,tabul,alpargat,ris,ccb,guip,veu,dheanded,ioi,cenour,jalec,scrub,chenil,decisa,descend,dagu,festaa,prov,iss,confet,batizsd,danny,camufl,terapeut,botan,paetzold,rat,helix,micr,piercing,tragu,futton,bunni,bomboni,rick,maluhy,corcov,pedraz,cmt,fat,cosplay,kanj,mantr,niverm,feng,shu,utencili,tolh,that,desconstru,need,paln,patcwork,lv,muppet,polimer,progress,chipandell,cafet,raven,camurc,dijon,endurec,coll,nuven,radi,toop,pasr,aaa,ecologic,acolcho,combin,fundament,legum,vien,cervic,fantasm,manutenca,quilt,spirit,graciel,ovinh,shell,hayzzu,portatel,oxford,madeiraaa,lik,hir,book,fisioterapeut,agradecimet,say,belacas,mtx,motocros,multic,aladim,religia,virgem,ginc,medalg,fly,reflexo,mila,ved,verific,larah,batizadobd,ovel,miguwl,qno,toystory,conjug,sexy,minii,sofy,katsan,lisbo,nanc,barrock,stok,tok,excel,ch,twott,bayblad,bolo,mathe,dobr,desp,fla,cr,boo,melod,lato,angry,bird,dobrad,png,descol,grup,bijot,brayan,ofic,iron,ilustraca,romanc,milagr,mang,extr,chaton,sapatenil,piccol,nivercatarin,negoc,athur,ce,connectiom,egg,julli,jup,moc,inici,estilet,ess,acompanh,jud,lavad,dih,rak,marmor,label,preg,torc,promov,mam,pillow,unicornri,lafof,codig,ler,linebaby,tell,foli,croc,erivon,capacet,tm,bug,canc,combat,prevenca,benj,murill,peluci,pingometr,maurici,paracetam,jaqu,omulu,fd,ariadn,acess,les,hipoalergen,fr,deh,zar,festad,quadrilh,gsb,goiab,formand,mariann,castanh,marcassit,conv,poss,quatet,personl,acessibil,sensor,remily,tuiu,aderec,zer,filhot,arlet,fren,catian,lend,mit,evor,aro,jasp,nathanael,cuty,kek,arcanj,orgonit,chenill,umband,fial,monte,pian,plastic,slav,requint,buzz,lighty,carden,charming,lembramc,carvalh,dest,gaz,yarl,dod,vr,pitut,inclin,aprox,hiegien,anand,mwu,ama,isamu,benfaz,materin,silabari,colon,sachet,bump,guh,pooh,bobi,santorin,astronalt,thit,kael,mabb,pinned,poc,thain,ror,pitch,elisabell,pre,cinderell,lohann,yasmim,prad,london,ts,susu,pajuc,ufmg,bij,kart,teodor,sinuc,gift,lunn,pt,cartoom,march,dinamarc,tant,forn,torne,cobre,oca,jaquelin,ferrad,caiqu,cian,edita,felpud,olav,reorganizaca,riverdal,cordel,icar,execu,acim,rob,lmbranc,volut,definitiv,multicolor,enfrm,sill,emborrach,lgbt,mousepad,clip,malbec,alvar,tubetr,quint,legit,mija,matelass,xvdakaw,tima,paneton,taoet,reclina,fiest,pinhe,zum,cemiteri,jazig,poney,assemble,luau,casari,mort,biolog,run,simbolog,trib,voodo,thayan,felicity,exuber,latif,prin,kp,arar,refriger,uuu,tuning,mediev,coorpor,caixet,light,caub,regin,sergi,granstick,kir,luanny,crepom,juc,zak,florespapel,turim,bijout,medalha,bermud,elast,fashiom,capac,ursin,naip,tin,sexshop,minn,gmp,fraud,casamant,eucalipt,jacky,orelh,leon,mainh,vist,roc,babybell,edilen,raca,sfr,milktoy,ejc,carti,one,piec,prquen,bouquet,topi,iasmin,linge,lingiri,salt,abob,docur,ursinhoavi,alianca,if,puppy,pediatr,vestidoss,cz,tamy,nutell,paradisiac,coment,chiqu,aeomatiz,arromatiz,rpg,alvim,bolc,personalzi,santiag,disponi,lieb,confeccion,rop,suedin,bianc,baix,rachel,fog,nevo,jaquet,cisn,ufc,hanging,facul,xi,descarta,mord,sos,recordaco,fez,dekoram,dot,freder,dondoc,mademoisell,pb,loir,falt,japa,fronh,etelvin,aparat,than,amor,pct,cax,bust,costum,falh,mikael,vig,cu,swaddl,vith,panopl,tictac,anivaeresari,quet,alarg,floyd,plug,magm,iglu,diamond,terrac,havan,samanth,elizet,nian,lembracas_dt,elips,esfoli,dedal,comvit,janild,dael,perosn,bk,maternity,acordol,analiz,unicorn,quiet,paraty,alumin,intens,evil,resident,midor,hay,vemelh,laz,parc,reflet,emy,fucs,morty,acuc,banhe,cortecri,mix,brigad,apucar,td_,artesananat,desmont,gras,jhulyen,ministeri,recurs,lan,bulet,tedy,sofiaantonell,amst,holand,cappuccin,capuccinn,antarc,chinelo,ive,ovniacessori,grlpwr,formig,lor,sbonet,fofux,ber,ramir,gaveto,sleep,nice,dorminhoc,fabul,manucrillic,round,tunet,ela,ele,minha,vida,grecch,ayrton,limit,senn,escond,lightbox,quinh,tactil,ui,eleganc,owa,cave,howlit,stormtroop,jane,maraton,caminho,raphaell,michel,zootecn,jessi,imperatriz,bao,cheirin,figu,qi,basto,ind,batism,conexa,reconciliaca,fortun,lord,vitt,angelin,pag,turqu,viking,traquil,graziel,ecoflex,rutim,almofadasfof,fibrall,sint,alej,men,alchemist,fullmet,lourd,suz,alis,eje,estec,mandagasc,cogumel,grifin,luf,sonserin,genev,want,alstroem,rub,ac,girlbos,tendenc,crenc,religio,vals,vd,assim,fotopres,niver,aproximad,luizadar,patrul,exercit,baian,ls,lagr,jorn,cebol,eni,think,pilh,jacquelin,mafr,gillm,ibn,imobili,ursinho,driel,oh,prolab,naturall,ipe,arra,bethan,trab,estudi,pavi,espiritual,hippi,setembr,sortei,stout,ade,mem,veterin,fatn,eye,sleepy,claudi,anod,brut,cianit,saal,tau,cerq,pirqt,nerf,cleitian,vichy,mensag,wc,aten,transp,pud,fs,taref,sweetcrillic,ilustraco,hernand,marcilen,hamburgu,sanduich,neonz,romantic,tirand,candombl,kitemb,meditaca,sanitari,hag,lilipop,claddagh,marcelly,fotolivr,panoram,tram,fusion,portavel,nei,gathoring,cartoon,nerd,pinkfong,element,ohan,print,su,fumac,incens,colic,carret,travesse,recordaca,hond,ponch,aiyr,woody,conviit,raphael,comerc,nik,lau,paa,deal,with,carm,potigu,jhgj,pinhat,thyel,silhuet,pij,suiss,chandon,paraconvit,panton,colaca,grau,pack,rechaud,cofrinh,ysil,compact,terapeu,criart,ayll,umicorni,sagu,nils,krat,colombi,mezanin,bijutt,informa,martel,room,reche,jsian,abili,luannn,romantiqu,direiro,hav,rar,chlo,clo,biscu,ly,saq,pepel,lucil,pipitapet,materindad,amode,encardenaca,amulet,caubo,frajol,orgk,deadpool,efe,menss,som,revers,gabiel,nucit,ipet,ballerin,ouij,wicc,ofertac,sextav,benefici,atr,fui,procur,dos,tei,cilen,heli,lamin,lidian,walt,discovery,surpirs,fitnes,ace,amorart,titan,mosquet,avis,dezembr,ressuscit,palmilh,dorsel,liiu,erv,academ,hamcom,touch,popey,cj,biojo,hematit,ximen,sku,violin,sombr,resid,days,pregaca,miss,ysad,dimag,pinguimgirl,renaboy,teach,indispensa,dendulitr,vad,of,thron,fom,noely,ians,bisav,lid,luk,eban,spazi,escrev,penicilin,afremov,leonid,duras,lm,byank,buja,green,maroc,shitzu,mighel,priv,cost,along,rimel,trop,volum,edn,chau,cjt,renta,tatam,cooki,naturelly,zuret,bercari,grud,uneb,lennys,cebolit,lurex,quadricul,sinimbu,trev,evelin,nort,salamandr,maternodad,descor,mitzvah,elt,caxot,big,lesb,notebook,fazendinnh,minniemdf,catchup,mostard,infantim,dezen,polain,marion,schirl,ethan,moleskin,skateboard,club,corin_th,jop,msg,opcion,sonor,carpinett,xax,apiqu,tricotim,cb,raniel,aleatori,carin,parafin,hop,skip,mosquetao,nylom,va,dou,higuen,enquant,coponeon,lorel,premuim,infu,intim,bacon,acredit,caligraf,emoldur,poem,fridacut,amsterd,glend,holly,burigott,linu,estrut,escr,maranat,pentecost,seme,lamm,mory,provenca,avelud,piment,beton,eurek,ma,joun,paixon,drinck,mde,quel,land,cangac,compart,millen,weskley,kitnet,reserv,shirley,bra,guilhermin,reil,fun,mood,graduaca,delicat,fracion,adventur,ther,plum,rafm,nariz,futs,ginas,nataca,diul,biomed,alnaj,iurup,lut,encont,bilub,patin,compress,minniom,ajust,audin,lian,buttom,nerv,etsy,felizdiadosp,vesr,escandin,garc,maced,sanding,luh,decup,teres,denis,priscil,mtsx,cauc,persin,erick,aracelly,sainh,raiv,rascunh,runn,can,locu,sobretud,trans,cla,lot,samur,arrib,gratuit,grumet,dnossaur,gomet,thaty,laric,ne,rs,gist,kaah,mereng,velud,csa,pim,cunh,mestr,kaynan,ezequiel,ka,mays,lest,persoanl,tecl,swan,khi,tyvek,fabiol,chab,insp,ra,tcq,rosel,ronald,alik,mta,chalk,camy,div,kamil,teaching,hebr,cd,barnel,nath,baron,jociel,addes,inform,calopsit,periquit,perob,alavanc,mtb,sabo,nun,tarjet,rodizi,safari,abutilon,eleg,siluet,comunicaca,marketing,sq,decorca,sunshin,fantoch,madeir,liter,liah,isy,missa,abalon,fgff,taehyung,gd,lembran,montr,tirolinn,duet,matild,toten,sand,sb_,july,favor,bap,poof,submarin,govern,rac,solen,zooer,poligon,osman,nebul,idos,moring,miud,muit,multifunca,pilat,yod,franz,anofernand,cair,maternida,ppr,perain,solicit,malea,marfim,cyru,miley,cams,pto,hadassah,angelim,lucen,kkkk,lob,tempor,gueix,pyetr,loco,rabisc,caixaz,deno,gent,carp,eucarest,tamiril,sammy,manch,pretty,adesivaca,nega,poes,lantejoul,ocomunha,ºcomunha,paoll,ya,mon,meow,petz,dosel,kim,dory,pesquis,ensolar,cab,pawpatrol,darwin,informaco,ve,cartori,opal,torcaid,hallowen,impr,junu,panam,realizaca,concav,jeit,dring,poly,pinch,ergonom,cropped,mmaravilh,mansior,netoland,bebec,antur,acalant,barrig,reproduca,blum,apegu,biomedicin,macqueen,nathan,nikael,calic,host,quartomenin,spac,lembrnc,resist,assimetr,lucineid,alfazem,nilton,bizz,novel,papoul,targaryen,gur,fc,cao,alg,caracol,coquetel,dcop,dra,brazil,decorhom,amorese,foguet,veget,nar,cabin,guest,bvlgar,heiniken,ravin,vand,pulse,viscos,woodgeek,marroquin,totag,spec,caralhoo,esseee,graduat,maculin,opa,polipropilen,danil,moldesroup,animalil,gatit,traz,as,cluth,tesour,lilac,passion,advocac,alinac,authenticgam,giardanap,pory,candiott,mendonc,felt,apresent,quarto,tax,apazrad,cond,promess,laribag,consult,siry,rome,jdcg,albert,lilopink,hygg,refugi,piqu,helicopter,penal,jhul,sepal,noivakt,jhn,pedrit,graduation,etiq,scrapboom,lata,oxid,josilan,cely,chalckboard,aranah,macanet,biibl,swarovsk,ancor,miracolu,terracot,amon,princio,combinaco,csament,meir,fao,lembrancinhad,invisi,amigurimil,manuscrit,tirir,tchut,sitcom,nstsl,bolt,oct,tatto,tornozel,jad,venesi,apostol,curi,gsm,haus,sab,parisi,neopren,almofada,arquitet,itaj,sora,graz,cel,adt,qd,ntc,splash,caixibh,lindass,rogeri,tho,ane,rb,anil,jyan,juiz,cristhian,collant,tff,celebr,chick,majuu,rosean,rout,arrucmaca,duplex,mystery,prefes,chimarra,cui,polk,nespress,medid,ax,lx,thaiz,birth,machin,maxrico,asaf,paulin,dess,pokomon,guqu,signific,miv,clic,ideogram,facilit,bubbl,cymbidium,kithigien,automo,aquacblock,skinny,bainh,rm,buy,oganiz,fogu,instruco,katian,budist,cheab,jjgu,micley,miney,atabaqu,td,releit,propagand,vacic,maktub,romer,alcem,cristin,forraca,bart,queim,discotec,nuch,enfeitr,jbhjbjhhjkj,katarin,meto,quadrofl,kenz,farol,gen,infntil,cros,aleat,proteca,arielly,melis,airplan,ran,ampulhet,aplik,capitu,embrulh,anthonny,mick,recib,espanh,lou,gran,inoxida,choc,quenn,peroll,taguacent,raglan,minhoca,doraca,mayann,cascalh,cxp,amanhec,aft,ev,foto,spad,izael,izaqu,girland,uniquebox,lulil,et,beby,escorpia,pipofr,duratex,rusty,saudad,mostr,paraqued,themil,anzol,caprich,organizac,zeld,verm,lorenzz,colleg,moleton,maahart,feroz,samb,tilibr,vox,eefant,gogh,evr,caban,caju,penduricalh,roch,pri,gar,pringl,enc,tro,paradis,suzan,hardrock,tek,jarim,dirlenefc,aless,integr,breaking,profica,harley,noak,opc,simb,curujit,babybel,mailon,axe,padilh,bicud,rast,auten,fotorev,kook,camily,toal,tie,nickelodeon,gelec,chatom,maxr,cata,iceb,minibast,sud,burreg,xbox,guel,maring,nivol,canton,damimh,record,chez,heaven,estreit,mag,helo,ex,backyardig,sasuk,inspired,powerful,chalkbord,astur,desafi,batm,enzon,mustach,cip,lud,funco,chimmy,pea,isqu,piriguet,festa_jf_,hastag,branca_de_nev,dark,sid,calcit,pirit,cortt,resplen,namoradp,egipci,aere,kindred,legend,paracefeliz,verb,aceit,pedag,yzz,tink,catharyn,joj,grood,burac,lee,borg,strom,rhav,gt,instalaca,gerb,helanc,duz,usb,ycar,arrud,emilen,lr,souspl,glas,socorr,magnifiqu,crochetzk,rodei,escalop,ad,bm,bfc,alfanumer,eur,simpson,consol,viteral,invert,mh,nivh,richard,compos,kauany,raiss,eliel,espress,cst,qua,rafaelly,vidadell,circu,catavent,selm,amarronz,aeb,mih,balco,condens,encadernaco,raiz,pl,plik,sig,bisquit,abdal,bisocit,elp,artu,reon,lalaloopsy,gulosem,amescl,ogum,ogun,alid,motociclet,escoooooolh,snak,cosm,lla,melindr,jubil,anp,luth,flumin,amstel,gren,borbol,uliss,constelaca,ogaiz,artifici,good,morning,amadeir,barret,qr,zao,obstetr,parais,nos,navet,hotweel,natan,glady,pelicul,mislen,congol,flynn,riden,guilarnd,grinc,japan,ume,imant,elf,brinac,dist,bobin,foi,ns,fantasy,catrin,cadarc,ning,renasc,pixel,presentea,johnni,walk,valenthin,pendul,azale,aeg,adelin,bru,pio,cominha,ruy,tacch,bodybaby,ciument,vx,fronti,longarin,nissan,drew,edwald,ameix,sl,aproximaca,modur,debarb,naqui,peitor,tactel,mibil,terrarium,xx,yass,ank,rebeld,pleas,hotwheel,tain,poinsett,cabac,vibr,dvd,vej,linger,corsag,itaub,lembrancinh,gabardin,gramp,etil,luid,minetabl,retrospec,mend,losangul,bohoemian,regurgit,compot,naiad,vianz,biador,fauxdor,ashley,vilo,ruim,imit,dcmd,colabor,ktbv,cola,kkk,cantinh,equilibri,compar,abtrat,grip,microblading,ent,anoitec,bacalhau,edin,freit,mp,sucu,ketheneen,colcha,agostin,basquet,cerv,batizz,deciraca,copacab,edineril,fonsec,personalizado,nth,tambab,cham,iwant,monument,peson,autom,welid,cnc,miscelan,mand,slash,apol,binit,emblem,pashimin,pashmin,deiv,chicc,macaron,chiclet,app,bated,qto,teddy,feeeeest,keir,sing,bloody,suzian,lucim,berlim,neym,cognac,captiv,namorado,marley,rot,impossi,furioz,veloz,malik,sisal,aspect,ello,pelot,animaco,cometiquet,jackpres,articula,iloveit,biblioteconom,moanny,fotoprodut,pesr,fi,buscuit,law,cazul,xxv,decorart,jogu,petec,tincab,dublin,cafun,garrafnh,gatossss,atlant,babygirl,plannet,balm,soap,cartil,lety,lemranc,licor,amel,cadan,persi,indigen,jablonex,pouq,passe,ultimat,crocodil,xux,brit,apuim,petlov,gragon,neem,almerit,vernelh,geg,toytoy,colorful,cpdec,fantom,concentraca,obsidi,roupa,roupo,ney,religios,breg,jitsu,jiu,gait,sanf,purpl,algum,churr,veriss,simo,erisfaz,casca,mensari,silu,rescu,unissexlux,concept,kba,ambos,peluda,tucan,etaflon,guiz,absorvica,semeart,peon,pedest,casor,cuart,bradock,comp,samakak,for,homeoff,valden,perfur,tras,thaiany,flow,fiell,noib,picnin,rihann,ray,army,xix,conqu,nativ,riv,chuve,interrup,aplliqu,bbl,ador,byeby,tuann,fic,conjuntin,fluff,bebell,small,dormitori,refr,transluc,encer,flexi,pitag,diss,nost,garf,polvilh,marth,siz,bairr,jouy,tigra,cabic,ferdin,tour,acresc,thati,enderec,gde,lazul,yang,yin,regist,adv,surre,severim,via,degrau,reun,how,joey,moth,your,esqu,gasolin,abstracion,orf,zoom,quardr,inaiin,buarqu,auxili,cjc,golg,brinquet,lionel,mess,louv,ensesari,blanc,niev,pofissa,decr,carmen,sutil,tapat,tapmaov,fraiday,galgo_roup,feiend,mandrio,oficc,daylison,incol,wisc,hopon,hoponopon,porong,working,oregon,reconstitu,ayman,pav,pratic,voss,cook,freef,st_,kitmanicur,nautic,tabern,send,pae,arcoiril,bdn,kakau,compost,florenc,hakun,matat,dobby,narit,indicaca,traj,kindl,organizador,esmerald,oraganiz,pua,fond,litll,ln,reangul,davy,amirugum,grung,idi,db,silvestr,jann,advinh,capit,gun,taxist,rosile,microsoft,dougl,moe,richili,caixinj,ramon,pacth,ppg,ianny,casament,eleven,koal,marshall,kal,weeding,eurotrip,mendoz,travel,anov,rin,grippu,qpc,aps,lhas,cocin,topo_de_bol,tabel,parasetom,quentim,kair,mixevariedad,marii,showroom,joauim,munich,tai,seduca,fruit,soy,adora,skylin,almodaf,pubg,sepult,sunset,mandel,relicali,tiffan,collection,si,ebenez,tubara,gring,jang,jak,bimb,precios,jericoaco,recomend,defici,inclusa,gfgdgd,pred,traviss,butterfli,enroladoz,gothel,qq,vasso,win,henr,waldorf,resum,postal,psg,odd,babylux,pent,kitd,campanh,biol,purchas,persob,mealh,fosque,padro,capuccin,babalo,erich,frescur,escot,mbr,orgulh,alb,hann,autoirriga,oo,bdd,crazy,devass,photocard,malevol,mesk,alf,frasque,crfmd,playgraund,delici,trac,torrreeiffel,lam,ghoul,toky,altern,josy,manicraft,nacion,estoja,jord,placac,karinny,dvin,amigurim,abdul\n"
     ]
    },
    {
     "name": "stdout",
     "output_type": "stream",
     "text": [
      "Time taken to create bow for :66.44623374938965\n"
     ]
    }
   ],
   "source": [
    "\n",
    "start_time = time.time()\n",
    "vocab_len = len(mydict)\n",
    "bow_filename = 'train_review_bow.csv'\n",
    "with open(bow_filename, 'w+') as bow_file:\n",
    "    for index, row in X_train.iterrows():\n",
    "        features = gensim.matutils.corpus2csc([mydict.doc2bow(row['stemmed_tokens'])],num_terms=vocab_len).toarray()[:,0]\n",
    "        if index == 0:\n",
    "            print(\"Header\")\n",
    "            header = \",\".join(str(mydict[ele]) for ele in range(vocab_len))\n",
    "            print(header)\n",
    "            bow_file.write(header)\n",
    "            bow_file.write(\"\\n\")\n",
    "        line1 = \",\".join( [str(vector_element) for vector_element in features] )\n",
    "        bow_file.write(line1)\n",
    "        bow_file.write('\\n')\n",
    "\n",
    "print(\"Time taken to create bow for :\" + str(time.time() - start_time))"
   ]
  },
  {
   "cell_type": "code",
   "execution_count": 11,
   "metadata": {},
   "outputs": [],
   "source": [
    "\n",
    "# Initialize the classifier object\n",
    "# Fit the model with input vectors and corresponding sentiment labels\n",
    "bow_clf = DecisionTreeClassifier(random_state=0)\n",
    "bow_df = pd.read_csv('train_review_bow.csv')\n",
    "categories = df_copy['category'].unique().tolist()"
   ]
  },
  {
   "cell_type": "code",
   "execution_count": 12,
   "metadata": {},
   "outputs": [
    {
     "name": "stdout",
     "output_type": "stream",
     "text": [
      "Value counts for Train set\n",
      "0    20523\n",
      "1     6075\n",
      "Name: Decoração, dtype: int64\n",
      "Value counts for Test set\n",
      "0    8753\n",
      "1    2647\n",
      "Name: Decoração, dtype: int64\n",
      "<class 'pandas.core.frame.DataFrame'>\n",
      "<class 'pandas.core.series.Series'>\n",
      "   index  product_id  seller_id  search_page  position        creation_date  \\\n",
      "0  29372     5795302    7931459            1         9  2014-01-15 14:59:29   \n",
      "1   7069     8243708    3398473            1        10  2018-06-06 22:26:07   \n",
      "2  28585    13717382    6729875            1        30  2019-05-05 12:24:52   \n",
      "3  36029    14777376    9085143            1        26  2014-02-09 00:41:09   \n",
      "4  11256     5644691    3645206            1        36  2013-10-15 11:07:37   \n",
      "\n",
      "    price  weight  express_delivery  minimum_quantity  view_counts  \\\n",
      "0   14.14    45.0                 1                36          567   \n",
      "1   56.80   705.0                 1                 8          167   \n",
      "2   18.93     6.0                 1                31           70   \n",
      "3   67.42     0.0                 0                 6          157   \n",
      "4  109.10     0.0                 1                 7          179   \n",
      "\n",
      "   order_counts                                     stemmed_tokens  \n",
      "0           3.0  [lembranc, lembranc, cha, beb, lembranc, cha, ...  \n",
      "1           0.0  [almof, person, almof, fot, lembranc, decoraca...  \n",
      "2           0.0  [pao, mel, person, bol, decor, minni, ros, pao...  \n",
      "3           4.0  [lac, faix, beb, ti, acessori, beb, ti, beb, f...  \n",
      "4           0.0             [pass, avuls, pass, barb, tapet, barb]  \n"
     ]
    },
    {
     "name": "stderr",
     "output_type": "stream",
     "text": [
      "2022/03/07 11:44:22 WARNING mlflow.models.model: Logging model metadata to the tracking server has failed, possibly due older server version. The model artifacts have been logged successfully under s3://mlflow/4/c12fdf774c4b45edb49d9ac329a656fb/artifacts. In addition to exporting model artifacts, MLflow clients 1.7.0 and above attempt to record model metadata to the tracking store. If logging to a mlflow server via REST, consider upgrading the server version to MLflow 1.7.0 or above.\n",
      "Successfully registered model 'bow-DecisionTreeClass-Decoração'.\n",
      "2022/03/07 11:44:24 INFO mlflow.tracking._model_registry.client: Waiting up to 300 seconds for model version to finish creation.                     Model name: bow-DecisionTreeClass-Decoração, version 1\n",
      "Created version '1' of model 'bow-DecisionTreeClass-Decoração'.\n"
     ]
    },
    {
     "name": "stdout",
     "output_type": "stream",
     "text": [
      "Value counts for Train set\n",
      "0    24653\n",
      "1     1945\n",
      "Name: Papel e Cia, dtype: int64\n",
      "Value counts for Test set\n",
      "0    10595\n",
      "1      805\n",
      "Name: Papel e Cia, dtype: int64\n",
      "<class 'pandas.core.frame.DataFrame'>\n",
      "<class 'pandas.core.series.Series'>\n",
      "   index  product_id  seller_id  search_page  position        creation_date  \\\n",
      "0  29372     5795302    7931459            1         9  2014-01-15 14:59:29   \n",
      "1   7069     8243708    3398473            1        10  2018-06-06 22:26:07   \n",
      "2  28585    13717382    6729875            1        30  2019-05-05 12:24:52   \n",
      "3  36029    14777376    9085143            1        26  2014-02-09 00:41:09   \n",
      "4  11256     5644691    3645206            1        36  2013-10-15 11:07:37   \n",
      "\n",
      "    price  weight  express_delivery  minimum_quantity  view_counts  \\\n",
      "0   14.14    45.0                 1                36          567   \n",
      "1   56.80   705.0                 1                 8          167   \n",
      "2   18.93     6.0                 1                31           70   \n",
      "3   67.42     0.0                 0                 6          157   \n",
      "4  109.10     0.0                 1                 7          179   \n",
      "\n",
      "   order_counts                                     stemmed_tokens  \n",
      "0           3.0  [lembranc, lembranc, cha, beb, lembranc, cha, ...  \n",
      "1           0.0  [almof, person, almof, fot, lembranc, decoraca...  \n",
      "2           0.0  [pao, mel, person, bol, decor, minni, ros, pao...  \n",
      "3           4.0  [lac, faix, beb, ti, acessori, beb, ti, beb, f...  \n",
      "4           0.0             [pass, avuls, pass, barb, tapet, barb]  \n"
     ]
    },
    {
     "name": "stderr",
     "output_type": "stream",
     "text": [
      "2022/03/07 11:45:22 WARNING mlflow.models.model: Logging model metadata to the tracking server has failed, possibly due older server version. The model artifacts have been logged successfully under s3://mlflow/4/cbb32bfa363d4255b8885e8d35b3b445/artifacts. In addition to exporting model artifacts, MLflow clients 1.7.0 and above attempt to record model metadata to the tracking store. If logging to a mlflow server via REST, consider upgrading the server version to MLflow 1.7.0 or above.\n",
      "Successfully registered model 'bow-DecisionTreeClass-Papel e Cia'.\n",
      "2022/03/07 11:45:23 INFO mlflow.tracking._model_registry.client: Waiting up to 300 seconds for model version to finish creation.                     Model name: bow-DecisionTreeClass-Papel e Cia, version 1\n",
      "Created version '1' of model 'bow-DecisionTreeClass-Papel e Cia'.\n"
     ]
    },
    {
     "name": "stdout",
     "output_type": "stream",
     "text": [
      "Value counts for Train set\n",
      "0    25813\n",
      "1      785\n",
      "Name: Outros, dtype: int64\n",
      "Value counts for Test set\n",
      "0    11053\n",
      "1      347\n",
      "Name: Outros, dtype: int64\n",
      "<class 'pandas.core.frame.DataFrame'>\n",
      "<class 'pandas.core.series.Series'>\n",
      "   index  product_id  seller_id  search_page  position        creation_date  \\\n",
      "0  29372     5795302    7931459            1         9  2014-01-15 14:59:29   \n",
      "1   7069     8243708    3398473            1        10  2018-06-06 22:26:07   \n",
      "2  28585    13717382    6729875            1        30  2019-05-05 12:24:52   \n",
      "3  36029    14777376    9085143            1        26  2014-02-09 00:41:09   \n",
      "4  11256     5644691    3645206            1        36  2013-10-15 11:07:37   \n",
      "\n",
      "    price  weight  express_delivery  minimum_quantity  view_counts  \\\n",
      "0   14.14    45.0                 1                36          567   \n",
      "1   56.80   705.0                 1                 8          167   \n",
      "2   18.93     6.0                 1                31           70   \n",
      "3   67.42     0.0                 0                 6          157   \n",
      "4  109.10     0.0                 1                 7          179   \n",
      "\n",
      "   order_counts                                     stemmed_tokens  \n",
      "0           3.0  [lembranc, lembranc, cha, beb, lembranc, cha, ...  \n",
      "1           0.0  [almof, person, almof, fot, lembranc, decoraca...  \n",
      "2           0.0  [pao, mel, person, bol, decor, minni, ros, pao...  \n",
      "3           4.0  [lac, faix, beb, ti, acessori, beb, ti, beb, f...  \n",
      "4           0.0             [pass, avuls, pass, barb, tapet, barb]  \n"
     ]
    },
    {
     "name": "stderr",
     "output_type": "stream",
     "text": [
      "2022/03/07 11:46:43 WARNING mlflow.models.model: Logging model metadata to the tracking server has failed, possibly due older server version. The model artifacts have been logged successfully under s3://mlflow/4/5c73cbee054f47aa9398918f6b47ee18/artifacts. In addition to exporting model artifacts, MLflow clients 1.7.0 and above attempt to record model metadata to the tracking store. If logging to a mlflow server via REST, consider upgrading the server version to MLflow 1.7.0 or above.\n",
      "Successfully registered model 'bow-DecisionTreeClass-Outros'.\n",
      "2022/03/07 11:46:45 INFO mlflow.tracking._model_registry.client: Waiting up to 300 seconds for model version to finish creation.                     Model name: bow-DecisionTreeClass-Outros, version 1\n",
      "Created version '1' of model 'bow-DecisionTreeClass-Outros'.\n"
     ]
    },
    {
     "name": "stdout",
     "output_type": "stream",
     "text": [
      "Value counts for Train set\n",
      "0    21737\n",
      "1     4861\n",
      "Name: Bebê, dtype: int64\n",
      "Value counts for Test set\n",
      "0    9331\n",
      "1    2069\n",
      "Name: Bebê, dtype: int64\n",
      "<class 'pandas.core.frame.DataFrame'>\n",
      "<class 'pandas.core.series.Series'>\n",
      "   index  product_id  seller_id  search_page  position        creation_date  \\\n",
      "0  29372     5795302    7931459            1         9  2014-01-15 14:59:29   \n",
      "1   7069     8243708    3398473            1        10  2018-06-06 22:26:07   \n",
      "2  28585    13717382    6729875            1        30  2019-05-05 12:24:52   \n",
      "3  36029    14777376    9085143            1        26  2014-02-09 00:41:09   \n",
      "4  11256     5644691    3645206            1        36  2013-10-15 11:07:37   \n",
      "\n",
      "    price  weight  express_delivery  minimum_quantity  view_counts  \\\n",
      "0   14.14    45.0                 1                36          567   \n",
      "1   56.80   705.0                 1                 8          167   \n",
      "2   18.93     6.0                 1                31           70   \n",
      "3   67.42     0.0                 0                 6          157   \n",
      "4  109.10     0.0                 1                 7          179   \n",
      "\n",
      "   order_counts                                     stemmed_tokens  \n",
      "0           3.0  [lembranc, lembranc, cha, beb, lembranc, cha, ...  \n",
      "1           0.0  [almof, person, almof, fot, lembranc, decoraca...  \n",
      "2           0.0  [pao, mel, person, bol, decor, minni, ros, pao...  \n",
      "3           4.0  [lac, faix, beb, ti, acessori, beb, ti, beb, f...  \n",
      "4           0.0             [pass, avuls, pass, barb, tapet, barb]  \n"
     ]
    },
    {
     "name": "stderr",
     "output_type": "stream",
     "text": [
      "2022/03/07 11:47:47 WARNING mlflow.models.model: Logging model metadata to the tracking server has failed, possibly due older server version. The model artifacts have been logged successfully under s3://mlflow/4/69fc0bdf099644789dc5a7b6ef5b4638/artifacts. In addition to exporting model artifacts, MLflow clients 1.7.0 and above attempt to record model metadata to the tracking store. If logging to a mlflow server via REST, consider upgrading the server version to MLflow 1.7.0 or above.\n",
      "Successfully registered model 'bow-DecisionTreeClass-Bebê'.\n",
      "2022/03/07 11:47:49 INFO mlflow.tracking._model_registry.client: Waiting up to 300 seconds for model version to finish creation.                     Model name: bow-DecisionTreeClass-Bebê, version 1\n",
      "Created version '1' of model 'bow-DecisionTreeClass-Bebê'.\n"
     ]
    },
    {
     "name": "stdout",
     "output_type": "stream",
     "text": [
      "Value counts for Train set\n",
      "0    14326\n",
      "1    12272\n",
      "Name: Lembrancinhas, dtype: int64\n",
      "Value counts for Test set\n",
      "0    6148\n",
      "1    5252\n",
      "Name: Lembrancinhas, dtype: int64\n",
      "<class 'pandas.core.frame.DataFrame'>\n",
      "<class 'pandas.core.series.Series'>\n",
      "   index  product_id  seller_id  search_page  position        creation_date  \\\n",
      "0  29372     5795302    7931459            1         9  2014-01-15 14:59:29   \n",
      "1   7069     8243708    3398473            1        10  2018-06-06 22:26:07   \n",
      "2  28585    13717382    6729875            1        30  2019-05-05 12:24:52   \n",
      "3  36029    14777376    9085143            1        26  2014-02-09 00:41:09   \n",
      "4  11256     5644691    3645206            1        36  2013-10-15 11:07:37   \n",
      "\n",
      "    price  weight  express_delivery  minimum_quantity  view_counts  \\\n",
      "0   14.14    45.0                 1                36          567   \n",
      "1   56.80   705.0                 1                 8          167   \n",
      "2   18.93     6.0                 1                31           70   \n",
      "3   67.42     0.0                 0                 6          157   \n",
      "4  109.10     0.0                 1                 7          179   \n",
      "\n",
      "   order_counts                                     stemmed_tokens  \n",
      "0           3.0  [lembranc, lembranc, cha, beb, lembranc, cha, ...  \n",
      "1           0.0  [almof, person, almof, fot, lembranc, decoraca...  \n",
      "2           0.0  [pao, mel, person, bol, decor, minni, ros, pao...  \n",
      "3           4.0  [lac, faix, beb, ti, acessori, beb, ti, beb, f...  \n",
      "4           0.0             [pass, avuls, pass, barb, tapet, barb]  \n"
     ]
    },
    {
     "name": "stderr",
     "output_type": "stream",
     "text": [
      "2022/03/07 11:48:38 WARNING mlflow.models.model: Logging model metadata to the tracking server has failed, possibly due older server version. The model artifacts have been logged successfully under s3://mlflow/4/34db6e1bcb8646698b9a990fe53bd87f/artifacts. In addition to exporting model artifacts, MLflow clients 1.7.0 and above attempt to record model metadata to the tracking store. If logging to a mlflow server via REST, consider upgrading the server version to MLflow 1.7.0 or above.\n",
      "Successfully registered model 'bow-DecisionTreeClass-Lembrancinhas'.\n",
      "2022/03/07 11:48:40 INFO mlflow.tracking._model_registry.client: Waiting up to 300 seconds for model version to finish creation.                     Model name: bow-DecisionTreeClass-Lembrancinhas, version 1\n",
      "Created version '1' of model 'bow-DecisionTreeClass-Lembrancinhas'.\n"
     ]
    },
    {
     "name": "stdout",
     "output_type": "stream",
     "text": [
      "Value counts for Train set\n",
      "0    25938\n",
      "1      660\n",
      "Name: Bijuterias e Jóias, dtype: int64\n",
      "Value counts for Test set\n",
      "0    11120\n",
      "1      280\n",
      "Name: Bijuterias e Jóias, dtype: int64\n",
      "<class 'pandas.core.frame.DataFrame'>\n",
      "<class 'pandas.core.series.Series'>\n",
      "   index  product_id  seller_id  search_page  position        creation_date  \\\n",
      "0  29372     5795302    7931459            1         9  2014-01-15 14:59:29   \n",
      "1   7069     8243708    3398473            1        10  2018-06-06 22:26:07   \n",
      "2  28585    13717382    6729875            1        30  2019-05-05 12:24:52   \n",
      "3  36029    14777376    9085143            1        26  2014-02-09 00:41:09   \n",
      "4  11256     5644691    3645206            1        36  2013-10-15 11:07:37   \n",
      "\n",
      "    price  weight  express_delivery  minimum_quantity  view_counts  \\\n",
      "0   14.14    45.0                 1                36          567   \n",
      "1   56.80   705.0                 1                 8          167   \n",
      "2   18.93     6.0                 1                31           70   \n",
      "3   67.42     0.0                 0                 6          157   \n",
      "4  109.10     0.0                 1                 7          179   \n",
      "\n",
      "   order_counts                                     stemmed_tokens  \n",
      "0           3.0  [lembranc, lembranc, cha, beb, lembranc, cha, ...  \n",
      "1           0.0  [almof, person, almof, fot, lembranc, decoraca...  \n",
      "2           0.0  [pao, mel, person, bol, decor, minni, ros, pao...  \n",
      "3           4.0  [lac, faix, beb, ti, acessori, beb, ti, beb, f...  \n",
      "4           0.0             [pass, avuls, pass, barb, tapet, barb]  \n"
     ]
    },
    {
     "name": "stderr",
     "output_type": "stream",
     "text": [
      "2022/03/07 11:49:02 WARNING mlflow.models.model: Logging model metadata to the tracking server has failed, possibly due older server version. The model artifacts have been logged successfully under s3://mlflow/4/28e98efe85a84c2e8bf20fe959ff67f2/artifacts. In addition to exporting model artifacts, MLflow clients 1.7.0 and above attempt to record model metadata to the tracking store. If logging to a mlflow server via REST, consider upgrading the server version to MLflow 1.7.0 or above.\n",
      "Successfully registered model 'bow-DecisionTreeClass-Bijuterias e Jóias'.\n",
      "2022/03/07 11:49:04 INFO mlflow.tracking._model_registry.client: Waiting up to 300 seconds for model version to finish creation.                     Model name: bow-DecisionTreeClass-Bijuterias e Jóias, version 1\n",
      "Created version '1' of model 'bow-DecisionTreeClass-Bijuterias e Jóias'.\n"
     ]
    }
   ],
   "source": [
    "\n",
    "for category in categories:\n",
    "    X_train, X_test, Y_train, Y_test = split_train_test(top_data_df_small,column=category)\n",
    "    # Train the classifier with default parameters\n",
    "    with mlflow.start_run(run_name='BOW_categorizer_'+category) as run:\n",
    "        bow_clf.fit(bow_df, Y_train[category])\n",
    "        #print(\"Logged data and model in run {}\".format(run.info.run_id))\n",
    "        mlflow.sklearn.log_model(\n",
    "            sk_model=bow_clf,\n",
    "            artifact_path=\"sklearn-model\",\n",
    "            registered_model_name=\"bow-DecisionTreeClass-\"+category\n",
    "        )"
   ]
  }
 ],
 "metadata": {
  "interpreter": {
   "hash": "916dbcbb3f70747c44a77c7bcd40155683ae19c65e1c03b4aa3499c5328201f1"
  },
  "kernelspec": {
   "display_name": "Python 3 (ipykernel)",
   "language": "python",
   "name": "python3"
  },
  "language_info": {
   "codemirror_mode": {
    "name": "ipython",
    "version": 3
   },
   "file_extension": ".py",
   "mimetype": "text/x-python",
   "name": "python",
   "nbconvert_exporter": "python",
   "pygments_lexer": "ipython3",
   "version": "3.9.1"
  }
 },
 "nbformat": 4,
 "nbformat_minor": 2
}
